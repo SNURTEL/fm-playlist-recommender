{
 "cells": [
  {
   "cell_type": "markdown",
   "source": [
    "# do not include in final doc"
   ],
   "metadata": {
    "collapsed": false
   },
   "id": "2b4abfd26eae9364"
  },
  {
   "cell_type": "code",
   "execution_count": 1,
   "id": "f5d613c1b1797b23",
   "metadata": {
    "ExecuteTime": {
     "end_time": "2024-01-19T22:34:06.681157361Z",
     "start_time": "2024-01-19T22:34:05.881110015Z"
    },
    "collapsed": false
   },
   "outputs": [],
   "source": [
    "import json\n",
    "import pickle\n",
    "import sys\n",
    "from typing import TypedDict\n",
    "from datetime import timedelta, datetime\n",
    "\n",
    "import matplotlib.pyplot as plt\n",
    "\n",
    "import src.model as src_model\n",
    "from src.recommender import Recommender\n",
    "from src.spark.config import views\n",
    "from src.spark.create_session import create_session\n",
    "\n",
    "import warnings\n",
    "import csv\n",
    "import time\n",
    "from datetime import datetime\n",
    "from typing import TypedDict\n",
    "from datetime import timedelta\n",
    "\n",
    "import numpy as np\n",
    "import pandas as pd\n",
    "from scipy import stats\n",
    "from lightfm import LightFM\n",
    "from lightfm.data import Dataset\n",
    "from lightfm.cross_validation import random_train_test_split\n",
    "from lightfm.evaluation import auc_score, precision_at_k, recall_at_k, reciprocal_rank\n",
    "\n",
    "\n",
    "from src.spark.config import views\n",
    "from src.spark.create_session import create_session\n",
    "from src.training import TrainingKwargs, train_lightfm\n",
    "from src.model.base_model import BaseModel\n",
    "from src.model.fm_model import FMModel"
   ]
  },
  {
   "cell_type": "code",
   "execution_count": 2,
   "id": "e34caf9e701142ea",
   "metadata": {
    "ExecuteTime": {
     "end_time": "2024-01-19T22:34:13.537977979Z",
     "start_time": "2024-01-19T22:34:06.678683656Z"
    },
    "collapsed": false
   },
   "outputs": [
    {
     "name": "stderr",
     "output_type": "stream",
     "text": [
      "Setting default log level to \"WARN\".\n",
      "To adjust logging level use sc.setLogLevel(newLevel). For SparkR, use setLogLevel(newLevel).\n",
      "24/01/19 23:34:08 WARN NativeCodeLoader: Unable to load native-hadoop library for your platform... using builtin-java classes where applicable\n"
     ]
    }
   ],
   "source": [
    "sys.modules['model'] = src_model\n",
    "\n",
    "VIEWS = views(\"v4\", filter_items=['tracks', 'artists'])\n",
    "spark = create_session()\n",
    "\n",
    "for view, file in VIEWS.items():\n",
    "    df = spark.read.json(file)\n",
    "    df.createOrReplaceTempView(view)\n",
    "\n",
    "_tracks_with_artists = spark.sql(\n",
    "    f\"SELECT DISTINCT t.id as track_id, t.name as track_name, a.id as artist_id, a.name as artist_name \"\n",
    "    f\"FROM tracks t join artists a on t.id_artist == a.id\").toPandas()\n",
    "\n",
    "with open(\"serialized/base_model.bin\", mode='rb') as fp:\n",
    "    base_model = pickle.load(fp)\n",
    "\n",
    "with open(\"serialized/advanced_model.bin\", mode='rb') as fp:\n",
    "    advanced_model = pickle.load(fp)\n",
    "\n",
    "del sys.modules['model']"
   ]
  },
  {
   "cell_type": "code",
   "execution_count": 3,
   "id": "41b6d93ec92e2902",
   "metadata": {
    "ExecuteTime": {
     "end_time": "2024-01-19T22:34:13.541449257Z",
     "start_time": "2024-01-19T22:34:13.539231332Z"
    },
    "collapsed": false
   },
   "outputs": [],
   "source": [
    "RANDOM_SEED = 12345678\n",
    "\n",
    "CLUSTERING_NO_REPS = 400\n",
    "PLAYLIST_LENGTH = 20"
   ]
  },
  {
   "cell_type": "code",
   "execution_count": 4,
   "id": "841a9cbbbf372215",
   "metadata": {
    "ExecuteTime": {
     "end_time": "2024-01-19T22:34:31.044503391Z",
     "start_time": "2024-01-19T22:34:13.542529192Z"
    },
    "collapsed": false
   },
   "outputs": [
    {
     "name": "stderr",
     "output_type": "stream",
     "text": [
      "                                                                                \r"
     ]
    }
   ],
   "source": [
    "warnings.simplefilter(action='ignore', category=FutureWarning)\n",
    "\n",
    "VIEWS = views(\"v4\")\n",
    "spark = create_session()\n",
    "\n",
    "for view, file in VIEWS.items():\n",
    "    df = spark.read.json(file)\n",
    "    df.createOrReplaceTempView(view)\n",
    "\n",
    "_tracks = spark.sql(\n",
    "    f\"SELECT DISTINCT id, id_artist, acousticness, danceability, duration_ms, energy, instrumentalness, key, liveness, loudness, popularity, EXTRACT(year from `release_date`) as release_year, speechiness, tempo, valence FROM tracks \").toPandas()\n",
    "tracks = pd.concat([_tracks[['id', 'id_artist']], _tracks.drop(['id', 'id_artist'], axis=1).apply(stats.zscore)],\n",
    "                   axis=1)\n",
    "users = spark.sql(f\"SELECT distinct user_id FROM sessions\").toPandas()\n",
    "\n",
    "d = spark.sql(\n",
    "    \"\"\"\n",
    "    SELECT s.user_id, s.track_id, s.weight, acousticness, danceability, duration_ms, energy, instrumentalness, key, liveness, loudness, popularity, EXTRACT(year from `release_date`) as release_year, speechiness, tempo, valence\n",
    "    FROM (\n",
    "        select user_id, track_id, sum(event_weight) as weight\n",
    "        from (\n",
    "            SELECT user_id, track_id, 1 as event_weight\n",
    "            FROM sessions\n",
    "            WHERE event_type like 'like'\n",
    "            ) \n",
    "        group by user_id, track_id\n",
    "    ) s\n",
    "    inner join tracks t on s.track_id = t.id\n",
    "    order by s.user_id, t.id\n",
    "    \"\"\").toPandas()"
   ]
  },
  {
   "cell_type": "code",
   "execution_count": 5,
   "id": "6b7860fa0143cab4",
   "metadata": {
    "ExecuteTime": {
     "end_time": "2024-01-19T22:34:44.774047932Z",
     "start_time": "2024-01-19T22:34:31.064944246Z"
    },
    "collapsed": false
   },
   "outputs": [
    {
     "name": "stdout",
     "output_type": "stream",
     "text": [
      "Num users: 5000, num_items 22412.\n",
      "Interaction matrix: <5000x22412 sparse matrix of type '<class 'numpy.int32'>'\n",
      "\twith 2568078 stored elements in COOrdinate format>\n",
      "Item feature matrix: <22412x22426 sparse matrix of type '<class 'numpy.float32'>'\n",
      "\twith 336180 stored elements in Compressed Sparse Row format>\n"
     ]
    }
   ],
   "source": [
    "dataset = Dataset()\n",
    "dataset.fit(\n",
    "    users=users['user_id'],\n",
    "    items=tracks['id']\n",
    ")\n",
    "dataset.fit_partial(\n",
    "    items=tracks['id'],\n",
    "    item_features=tracks.drop('id', axis=1)\n",
    ")\n",
    "num_users, num_items = dataset.interactions_shape()\n",
    "print('Num users: {}, num_items {}.'.format(num_users, num_items))\n",
    "\n",
    "(interactions, weights) = dataset.build_interactions(d[['user_id', 'track_id']].apply(tuple, axis=1))\n",
    "print(f\"Interaction matrix: {repr(interactions)}\")\n",
    "\n",
    "(train, test) = random_train_test_split(interactions)\n",
    "\n",
    "feature_names = tracks.drop(['id'], axis=1).columns\n",
    "\n",
    "item_features = dataset.build_item_features(\n",
    "    ((i, feature_names) for i in tracks['id']),\n",
    "    normalize=False)\n",
    "print(f\"Item feature matrix: {repr(item_features)}\")\n",
    "def mean_dist_from_cluster_center(items_ids, model: LightFM, item_id_mapping: dict):\n",
    "    item_indices = [item_id_mapping[i] for i in items_ids]\n",
    "    coords = np.take(model.get_item_representations()[1], item_indices, axis=0)\n",
    "    center = np.sum(coords, axis=0) / coords.shape[0]\n",
    "    return np.average(np.apply_along_axis(lambda x: np.linalg.norm(center - x, ord=2), 1, coords))\n",
    "\n",
    "(user_id_mapping, _, item_id_mapping, _) = dataset.mapping()"
   ]
  },
  {
   "cell_type": "code",
   "execution_count": 6,
   "id": "6eb1538593be04c2",
   "metadata": {
    "ExecuteTime": {
     "end_time": "2024-01-19T22:36:21.006911188Z",
     "start_time": "2024-01-19T22:34:44.777903530Z"
    },
    "collapsed": false
   },
   "outputs": [
    {
     "name": "stdout",
     "output_type": "stream",
     "text": [
      "8/10 done..."
     ]
    }
   ],
   "source": [
    "\n",
    "\n",
    "print(f\"0/10 done...\", end=\"\")\n",
    "train_auc = auc_score(advanced_model.model, train,\n",
    "                        item_features=item_features,\n",
    "                        num_threads=12).mean()\n",
    "print(f\"\\r1/10 done...\", end=\"\")\n",
    "test_auc = auc_score(advanced_model.model, test,\n",
    "                       train_interactions=train,\n",
    "                       item_features=item_features,\n",
    "                       num_threads=12).mean()\n",
    "print(f\"\\r2/10 done...\", end=\"\")\n",
    "\n",
    "train_precision = precision_at_k(advanced_model.model, train, k=10,\n",
    "                                   item_features=item_features,\n",
    "                                   num_threads=12).mean()\n",
    "print(f\"\\r3/10 done...\", end=\"\")\n",
    "test_precision = precision_at_k(advanced_model.model, test, k=10,\n",
    "                                  train_interactions=train,\n",
    "                                  item_features=item_features,\n",
    "                                  num_threads=12).mean()\n",
    "print(f\"\\r4/10 done...\", end=\"\")\n",
    "\n",
    "train_recall = recall_at_k(advanced_model.model, train, k=10,\n",
    "                             item_features=item_features,\n",
    "                             num_threads=12).mean()\n",
    "print(f\"\\r5/10 done...\", end=\"\")\n",
    "test_recall = recall_at_k(advanced_model.model, test, k=10,\n",
    "                            train_interactions=train,\n",
    "                            item_features=item_features,\n",
    "                            num_threads=12).mean()\n",
    "print(f\"\\r6/10 done...\", end=\"\")\n",
    "\n",
    "train_reciprocal_rank = reciprocal_rank(advanced_model.model, train,\n",
    "                                          item_features=item_features,\n",
    "                                          num_threads=12).mean()\n",
    "print(f\"\\r7/10 done...\", end=\"\")\n",
    "test_reciprocal_rank = reciprocal_rank(advanced_model.model, test,\n",
    "                                         train_interactions=train,\n",
    "                                         item_features=item_features,\n",
    "                                         num_threads=12).mean()\n",
    "print(f\"\\r8/10 done...\", end=\"\")"
   ]
  },
  {
   "cell_type": "code",
   "execution_count": 7,
   "id": "906d46387bf4c1ae",
   "metadata": {
    "ExecuteTime": {
     "end_time": "2024-01-19T22:37:25.608870051Z",
     "start_time": "2024-01-19T22:36:21.002088492Z"
    },
    "collapsed": false
   },
   "outputs": [
    {
     "name": "stdout",
     "output_type": "stream",
     "text": [
      "10/10 done...\n",
      "[{'auc_train': 0.93886787, 'auc_test': 0.94086456, 'precision_train': 0.36034, 'precision_test': 0.25335997, 'recall_train': 0.024037187384846385, 'recall_test': 0.0992822667427441, 'reciprocal_rank_train': 0.5467409, 'reciprocal_rank_test': 0.38122585, 'clustering_fm': 0.4514504111930728, 'clustering_base': 0.6449009677767754, 'percent_better': 29.9969400341578}]\n"
     ]
    }
   ],
   "source": [
    "\n",
    "\n",
    "mean_dists_fm = []\n",
    "for _ in range(CLUSTERING_NO_REPS):\n",
    "    try:\n",
    "        no_users = np.random.randint(low=2, high=10)\n",
    "        user_ids = users['user_id'].sample(no_users).tolist()\n",
    "        r = advanced_model.predict_multiple(user_ids, PLAYLIST_LENGTH)\n",
    "        mean_dists_fm.append(mean_dist_from_cluster_center(r, advanced_model.model, item_id_mapping))\n",
    "    except ValueError as e:\n",
    "        print(repr(e))\n",
    "        print(user_ids)\n",
    "\n",
    "mean_dist_fm = sum(mean_dists_fm) / CLUSTERING_NO_REPS\n",
    "\n",
    "print(f\"\\r9/10 done...\", end=\"\")\n",
    "\n",
    "mean_dists_base = []\n",
    "for _ in range(CLUSTERING_NO_REPS):\n",
    "    no_users = np.random.randint(low=2, high=10)        \n",
    "    user_ids = users['user_id'].sample(no_users).tolist()\n",
    "    r = base_model.predict_multiple(user_ids, PLAYLIST_LENGTH)\n",
    "    mean_dists_base.append(mean_dist_from_cluster_center(r, advanced_model.model, item_id_mapping))\n",
    "\n",
    "\n",
    "mean_dist_base = sum(mean_dists_base) / CLUSTERING_NO_REPS\n",
    "\n",
    "print(f\"\\r10/10 done...\")\n",
    "\n",
    "class EvaluationResults(TypedDict):\n",
    "    auc_train: float\n",
    "    auc_test: float\n",
    "    precision_train: float\n",
    "    precision_test: float\n",
    "    recall_train: float\n",
    "    recall_test: float\n",
    "    reciprocal_rank_train: float\n",
    "    reciprocal_rank_test: float\n",
    "    clustering_fm: float\n",
    "    clustering_base: float\n",
    "    percent_better: float\n",
    "    time_elapsed: timedelta\n",
    "\n",
    "res: EvaluationResults = {\n",
    "    \"auc_train\": train_auc,\n",
    "    \"auc_test\": test_auc,\n",
    "    \"precision_train\": train_precision,\n",
    "    \"precision_test\": test_precision,\n",
    "    \"recall_train\": train_recall,\n",
    "    \"recall_test\": test_recall,\n",
    "    \"reciprocal_rank_train\": train_reciprocal_rank,\n",
    "    \"reciprocal_rank_test\": test_reciprocal_rank,\n",
    "    \"clustering_fm\": mean_dist_fm,\n",
    "    \"clustering_base\": mean_dist_base,\n",
    "    \"percent_better\": (mean_dist_base - mean_dist_fm) * 100 / mean_dist_base,\n",
    "}\n",
    "\n",
    "print(f\"[{res}]\")"
   ]
  },
  {
   "cell_type": "code",
   "execution_count": 12,
   "id": "f7baca2df3c9adad",
   "metadata": {
    "ExecuteTime": {
     "end_time": "2024-01-19T22:39:35.440156579Z",
     "start_time": "2024-01-19T22:39:35.436223116Z"
    },
    "collapsed": false
   },
   "outputs": [
    {
     "data": {
      "text/html": [
       "<div>\n",
       "<style scoped>\n",
       "    .dataframe tbody tr th:only-of-type {\n",
       "        vertical-align: middle;\n",
       "    }\n",
       "\n",
       "    .dataframe tbody tr th {\n",
       "        vertical-align: top;\n",
       "    }\n",
       "\n",
       "    .dataframe thead th {\n",
       "        text-align: right;\n",
       "    }\n",
       "</style>\n",
       "<table border=\"1\" class=\"dataframe\">\n",
       "  <thead>\n",
       "    <tr style=\"text-align: right;\">\n",
       "      <th></th>\n",
       "      <th>Wartość</th>\n",
       "    </tr>\n",
       "  </thead>\n",
       "  <tbody>\n",
       "    <tr>\n",
       "      <th>auc_train</th>\n",
       "      <td>0.938868</td>\n",
       "    </tr>\n",
       "    <tr>\n",
       "      <th>auc_test</th>\n",
       "      <td>0.940865</td>\n",
       "    </tr>\n",
       "    <tr>\n",
       "      <th>precision_train</th>\n",
       "      <td>0.360340</td>\n",
       "    </tr>\n",
       "    <tr>\n",
       "      <th>precision_test</th>\n",
       "      <td>0.253360</td>\n",
       "    </tr>\n",
       "    <tr>\n",
       "      <th>recall_train</th>\n",
       "      <td>0.024037</td>\n",
       "    </tr>\n",
       "    <tr>\n",
       "      <th>recall_test</th>\n",
       "      <td>0.099282</td>\n",
       "    </tr>\n",
       "    <tr>\n",
       "      <th>reciprocal_rank_train</th>\n",
       "      <td>0.546741</td>\n",
       "    </tr>\n",
       "    <tr>\n",
       "      <th>reciprocal_rank_test</th>\n",
       "      <td>0.381226</td>\n",
       "    </tr>\n",
       "    <tr>\n",
       "      <th>clustering_fm</th>\n",
       "      <td>0.451450</td>\n",
       "    </tr>\n",
       "    <tr>\n",
       "      <th>clustering_base</th>\n",
       "      <td>0.644901</td>\n",
       "    </tr>\n",
       "    <tr>\n",
       "      <th>percent_better</th>\n",
       "      <td>29.996940</td>\n",
       "    </tr>\n",
       "  </tbody>\n",
       "</table>\n",
       "</div>"
      ],
      "text/plain": [
       "                         Wartość\n",
       "auc_train               0.938868\n",
       "auc_test                0.940865\n",
       "precision_train         0.360340\n",
       "precision_test          0.253360\n",
       "recall_train            0.024037\n",
       "recall_test             0.099282\n",
       "reciprocal_rank_train   0.546741\n",
       "reciprocal_rank_test    0.381226\n",
       "clustering_fm           0.451450\n",
       "clustering_base         0.644901\n",
       "percent_better         29.996940"
      ]
     },
     "execution_count": 12,
     "metadata": {},
     "output_type": "execute_result"
    }
   ],
   "source": [
    "res_df = pd.DataFrame.from_dict(res, orient='index',columns=['Wartość'])\n",
    "res_df"
   ]
  },
  {
   "cell_type": "code",
   "execution_count": 13,
   "id": "452404082658618b",
   "metadata": {
    "ExecuteTime": {
     "end_time": "2024-01-19T22:39:53.755807221Z",
     "start_time": "2024-01-19T22:39:53.204231814Z"
    },
    "collapsed": false
   },
   "outputs": [
    {
     "name": "stdout",
     "output_type": "stream",
     "text": [
      "\\begin{tabular}{lr}\n",
      "\\toprule\n",
      " & Wartość \\\\\n",
      "\\midrule\n",
      "auc\\_train & 0.938868 \\\\\n",
      "auc\\_test & 0.940865 \\\\\n",
      "precision\\_train & 0.360340 \\\\\n",
      "precision\\_test & 0.253360 \\\\\n",
      "recall\\_train & 0.024037 \\\\\n",
      "recall\\_test & 0.099282 \\\\\n",
      "reciprocal\\_rank\\_train & 0.546741 \\\\\n",
      "reciprocal\\_rank\\_test & 0.381226 \\\\\n",
      "clustering\\_fm & 0.451450 \\\\\n",
      "clustering\\_base & 0.644901 \\\\\n",
      "percent\\_better & 29.996940 \\\\\n",
      "\\bottomrule\n",
      "\\end{tabular}\n"
     ]
    }
   ],
   "source": [
    "print(res_df.to_latex(escape=True))"
   ]
  },
  {
   "cell_type": "code",
   "execution_count": 16,
   "id": "e7cdfea4f87186de",
   "metadata": {
    "ExecuteTime": {
     "end_time": "2024-01-19T23:20:07.203788397Z",
     "start_time": "2024-01-19T23:09:23.618554351Z"
    },
    "collapsed": false
   },
   "outputs": [],
   "source": [
    "md_base = []\n",
    "md_fm = []\n",
    "\n",
    "for no_users in range(2, 11):\n",
    "    mean_dists_fm = []\n",
    "    for _ in range(CLUSTERING_NO_REPS):\n",
    "        try:\n",
    "            user_ids = users['user_id'].sample(no_users).tolist()\n",
    "            r = advanced_model.predict_multiple(user_ids, PLAYLIST_LENGTH)\n",
    "            mean_dists_fm.append(mean_dist_from_cluster_center(r, advanced_model.model, item_id_mapping))\n",
    "        except ValueError as e:\n",
    "            print(repr(e))\n",
    "            print(user_ids)\n",
    "    \n",
    "    # mean_dist_fm = sum(mean_dists_fm) / CLUSTERING_NO_REPS\n",
    "        \n",
    "    mean_dists_base = []\n",
    "    for _ in range(CLUSTERING_NO_REPS):\n",
    "        user_ids = users['user_id'].sample(no_users).tolist()\n",
    "        r = base_model.predict_multiple(user_ids, PLAYLIST_LENGTH)\n",
    "        mean_dists_base.append(mean_dist_from_cluster_center(r, advanced_model.model, item_id_mapping))\n",
    "    \n",
    "    \n",
    "    # mean_dist_base = sum(mean_dists_base) / CLUSTERING_NO_REPS\n",
    "    \n",
    "    md_base.append(mean_dists_base)\n",
    "    md_fm.append(mean_dists_fm)"
   ]
  },
  {
   "cell_type": "code",
   "execution_count": 27,
   "id": "c382185904a7ad80",
   "metadata": {
    "ExecuteTime": {
     "end_time": "2024-01-19T23:32:45.841984437Z",
     "start_time": "2024-01-19T23:32:45.655195455Z"
    },
    "collapsed": false
   },
   "outputs": [],
   "source": [
    "from matplotlib import pyplot as plt\n",
    "import seaborn as sns"
   ]
  },
  {
   "cell_type": "code",
   "execution_count": 61,
   "id": "9528beea09913d1a",
   "metadata": {
    "ExecuteTime": {
     "end_time": "2024-01-19T23:44:18.874868657Z",
     "start_time": "2024-01-19T23:44:18.512327873Z"
    },
    "collapsed": false
   },
   "outputs": [
    {
     "data": {
      "image/png": "[encoded data removed]",
      "text/plain": [
       "<Figure size 640x480 with 1 Axes>"
      ]
     },
     "metadata": {},
     "output_type": "display_data"
    }
   ],
   "source": [
    "fig, ax = plt.subplots()\n",
    "c = \"orange\"\n",
    "bp1 = ax.boxplot(md_base, positions=np.arange(2, 11)+0.2, widths=0.3, notch=True, patch_artist=True,\n",
    "            boxprops=dict(facecolor=c, color=c),\n",
    "            capprops=dict(color=c),\n",
    "            whiskerprops=dict(color=c),\n",
    "            flierprops=dict(color=c, markeredgecolor=c),\n",
    "            medianprops=dict(color=c),)\n",
    "c = \"cyan\"\n",
    "bp2 = ax.boxplot(md_fm, positions=np.arange(2, 11)-0.2, widths=0.3, notch=True, patch_artist=True,\n",
    "            boxprops=dict(facecolor=c, color=c),\n",
    "            capprops=dict(color=c),\n",
    "            whiskerprops=dict(color=c),\n",
    "            flierprops=dict(color=c, markeredgecolor=c),\n",
    "            medianprops=dict(color=c),)\n",
    "ax.set_xticks(range(2, 11), labels=range(2,11))\n",
    "ax.legend([bp1[\"boxes\"][0], bp2[\"boxes\"][0]], ['Model bazowy', 'Model zaawansowany'], loc='best')\n",
    "ax.set_xlabel(\"Liczba użytkowników\")\n",
    "ax.set_ylabel(\"Średnia odległość od środka klastra\")\n",
    "plt.show()"
   ]
  }
 ],
 "metadata": {
  "kernelspec": {
   "display_name": "Python 3 (ipykernel)",
   "language": "python",
   "name": "python3"
  },
  "language_info": {
   "codemirror_mode": {
    "name": "ipython",
    "version": 3
   },
   "file_extension": ".py",
   "mimetype": "text/x-python",
   "name": "python",
   "nbconvert_exporter": "python",
   "pygments_lexer": "ipython3",
   "version": "3.10.11"
  }
 },
 "nbformat": 4,
 "nbformat_minor": 5
}
