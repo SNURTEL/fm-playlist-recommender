{
 "cells": [
  {
   "cell_type": "markdown",
   "source": [
    "# Model usage example"
   ],
   "metadata": {
    "collapsed": false
   },
   "id": "2a08d1e399617e61"
  },
  {
   "cell_type": "code",
   "execution_count": 1,
   "id": "initial_id",
   "metadata": {
    "collapsed": true,
    "ExecuteTime": {
     "end_time": "2024-01-19T22:54:15.358648456Z",
     "start_time": "2024-01-19T22:54:15.034093256Z"
    }
   },
   "outputs": [],
   "source": [
    "import warnings\n",
    "\n",
    "warnings.simplefilter(action='ignore', category=FutureWarning)\n",
    "\n",
    "import pandas as pd\n",
    "import numpy as np\n",
    "\n",
    "from spark.config import views\n",
    "from spark.create_session import create_session\n",
    "\n",
    "from IPython.display import display\n"
   ]
  },
  {
   "cell_type": "markdown",
   "source": [
    "Create Spark session and load the data. Files should be stored in the `data/{version}` directory under project root."
   ],
   "metadata": {
    "collapsed": false
   },
   "id": "f1cf0ec963d64b07"
  },
  {
   "cell_type": "code",
   "execution_count": 2,
   "outputs": [
    {
     "name": "stderr",
     "output_type": "stream",
     "text": [
      "Setting default log level to \"WARN\".\n",
      "To adjust logging level use sc.setLogLevel(newLevel). For SparkR, use setLogLevel(newLevel).\n",
      "24/01/19 23:54:16 WARN NativeCodeLoader: Unable to load native-hadoop library for your platform... using builtin-java classes where applicable\n",
      "24/01/19 23:54:17 WARN Utils: Service 'SparkUI' could not bind on port 4040. Attempting port 4041.\n",
      "                                                                                \r"
     ]
    }
   ],
   "source": [
    "VIEWS = views(\"v4\")\n",
    "spark = create_session()\n",
    "\n",
    "for view, file in VIEWS.items():\n",
    "    df = spark.read.json(file)\n",
    "    df.createOrReplaceTempView(view)"
   ],
   "metadata": {
    "collapsed": false,
    "ExecuteTime": {
     "end_time": "2024-01-19T22:54:25.668826833Z",
     "start_time": "2024-01-19T22:54:15.360680603Z"
    }
   },
   "id": "41655e9661968948"
  },
  {
   "cell_type": "markdown",
   "source": [
    "Query for users, tracks and sessions. Sessions query is performed here only to preview the data, a more complex sessions query will be performed later on."
   ],
   "metadata": {
    "collapsed": false
   },
   "id": "3faefae9d7c2f0f9"
  },
  {
   "cell_type": "code",
   "execution_count": 3,
   "outputs": [
    {
     "name": "stderr",
     "output_type": "stream",
     "text": [
      "                                                                                \r"
     ]
    }
   ],
   "source": [
    "sessions_full = spark.sql(f\"SELECT * FROM sessions\").toPandas()\n",
    "sessions = spark.sql(\n",
    "    f\"SELECT DISTINCT user_id, track_id FROM sessions WHERE event_type like 'like' order by user_id, track_id\").toPandas()\n",
    "_tracks = spark.sql(\n",
    "    f\"SELECT DISTINCT id, id_artist, acousticness, danceability, duration_ms, energy, instrumentalness, key, liveness, loudness, popularity, EXTRACT(year from `release_date`) as release_year, speechiness, tempo, valence FROM tracks \").toPandas()\n",
    "users = spark.sql(f\"SELECT user_id FROM users\").toPandas()"
   ],
   "metadata": {
    "collapsed": false,
    "ExecuteTime": {
     "end_time": "2024-01-19T22:54:49.685470261Z",
     "start_time": "2024-01-19T22:54:25.673137108Z"
    }
   },
   "id": "15f0fb47a5c1bf76"
  },
  {
   "cell_type": "code",
   "execution_count": 4,
   "outputs": [
    {
     "data": {
      "text/plain": "            event_type  session_id                   timestamp  \\\n0                 play         124         2023-05-30T23:37:17   \n1         advertisment         124  2023-05-30T23:44:37.941000   \n2                 like         124  2023-05-30T23:44:37.941000   \n3                 skip         124  2023-05-30T23:44:46.212000   \n4                 play         124  2023-05-30T23:44:51.212000   \n...                ...         ...                         ...   \n12340426          play      878516  2022-12-27T11:20:54.236000   \n12340427          play      878516  2022-12-27T11:26:11.409000   \n12340428          play      878516  2022-12-27T11:30:27.182000   \n12340429          like      878516  2022-12-27T11:32:22.571000   \n12340430          play      878516  2022-12-27T11:35:56.115000   \n\n                        track_id  user_id  \n0         0qbV4e18lWrTTxlswVoLbI      101  \n1                           None      101  \n2         0qbV4e18lWrTTxlswVoLbI      101  \n3         0qbV4e18lWrTTxlswVoLbI      101  \n4         3pyTksNccLM1jRvzQ4zTke      101  \n...                          ...      ...  \n12340426  2nxzEMUmIhSJeGBaXgh30x     5100  \n12340427  19K3lUMJmOdeuOBTrbLm19     5100  \n12340428  1PhLYngBKbeDtdmDzCg3Pb     5100  \n12340429  1PhLYngBKbeDtdmDzCg3Pb     5100  \n12340430  09ezgACZuwWZt6CtQSSLRG     5100  \n\n[12340431 rows x 5 columns]",
      "text/html": "<div>\n<style scoped>\n    .dataframe tbody tr th:only-of-type {\n        vertical-align: middle;\n    }\n\n    .dataframe tbody tr th {\n        vertical-align: top;\n    }\n\n    .dataframe thead th {\n        text-align: right;\n    }\n</style>\n<table border=\"1\" class=\"dataframe\">\n  <thead>\n    <tr style=\"text-align: right;\">\n      <th></th>\n      <th>event_type</th>\n      <th>session_id</th>\n      <th>timestamp</th>\n      <th>track_id</th>\n      <th>user_id</th>\n    </tr>\n  </thead>\n  <tbody>\n    <tr>\n      <th>0</th>\n      <td>play</td>\n      <td>124</td>\n      <td>2023-05-30T23:37:17</td>\n      <td>0qbV4e18lWrTTxlswVoLbI</td>\n      <td>101</td>\n    </tr>\n    <tr>\n      <th>1</th>\n      <td>advertisment</td>\n      <td>124</td>\n      <td>2023-05-30T23:44:37.941000</td>\n      <td>None</td>\n      <td>101</td>\n    </tr>\n    <tr>\n      <th>2</th>\n      <td>like</td>\n      <td>124</td>\n      <td>2023-05-30T23:44:37.941000</td>\n      <td>0qbV4e18lWrTTxlswVoLbI</td>\n      <td>101</td>\n    </tr>\n    <tr>\n      <th>3</th>\n      <td>skip</td>\n      <td>124</td>\n      <td>2023-05-30T23:44:46.212000</td>\n      <td>0qbV4e18lWrTTxlswVoLbI</td>\n      <td>101</td>\n    </tr>\n    <tr>\n      <th>4</th>\n      <td>play</td>\n      <td>124</td>\n      <td>2023-05-30T23:44:51.212000</td>\n      <td>3pyTksNccLM1jRvzQ4zTke</td>\n      <td>101</td>\n    </tr>\n    <tr>\n      <th>...</th>\n      <td>...</td>\n      <td>...</td>\n      <td>...</td>\n      <td>...</td>\n      <td>...</td>\n    </tr>\n    <tr>\n      <th>12340426</th>\n      <td>play</td>\n      <td>878516</td>\n      <td>2022-12-27T11:20:54.236000</td>\n      <td>2nxzEMUmIhSJeGBaXgh30x</td>\n      <td>5100</td>\n    </tr>\n    <tr>\n      <th>12340427</th>\n      <td>play</td>\n      <td>878516</td>\n      <td>2022-12-27T11:26:11.409000</td>\n      <td>19K3lUMJmOdeuOBTrbLm19</td>\n      <td>5100</td>\n    </tr>\n    <tr>\n      <th>12340428</th>\n      <td>play</td>\n      <td>878516</td>\n      <td>2022-12-27T11:30:27.182000</td>\n      <td>1PhLYngBKbeDtdmDzCg3Pb</td>\n      <td>5100</td>\n    </tr>\n    <tr>\n      <th>12340429</th>\n      <td>like</td>\n      <td>878516</td>\n      <td>2022-12-27T11:32:22.571000</td>\n      <td>1PhLYngBKbeDtdmDzCg3Pb</td>\n      <td>5100</td>\n    </tr>\n    <tr>\n      <th>12340430</th>\n      <td>play</td>\n      <td>878516</td>\n      <td>2022-12-27T11:35:56.115000</td>\n      <td>09ezgACZuwWZt6CtQSSLRG</td>\n      <td>5100</td>\n    </tr>\n  </tbody>\n</table>\n<p>12340431 rows × 5 columns</p>\n</div>"
     },
     "metadata": {},
     "output_type": "display_data"
    },
    {
     "data": {
      "text/plain": "         user_id                track_id\n0            101  01q4ccXbvPlCwZ1fPiFaeM\n1            101  02ePjHjIiszSYqeLykvpTN\n2            101  02ppMPbg1OtEdHgoPqoqju\n3            101  03EnOL1O9EKi9CFNmPyrCm\n4            101  0534jmQ0dYChW5MSzYXNVr\n...          ...                     ...\n2568073     5100  7xD7MvjAdZkx1YICschIuI\n2568074     5100  7xa3dJQMzBVzsrZ81tNcHP\n2568075     5100  7yYvvOB7CuzdVldb6zOk1m\n2568076     5100  7ygpwy2qP3NbrxVkHvUhXY\n2568077     5100  7zjzu90Q4mtNNaE9Ol9Zbv\n\n[2568078 rows x 2 columns]",
      "text/html": "<div>\n<style scoped>\n    .dataframe tbody tr th:only-of-type {\n        vertical-align: middle;\n    }\n\n    .dataframe tbody tr th {\n        vertical-align: top;\n    }\n\n    .dataframe thead th {\n        text-align: right;\n    }\n</style>\n<table border=\"1\" class=\"dataframe\">\n  <thead>\n    <tr style=\"text-align: right;\">\n      <th></th>\n      <th>user_id</th>\n      <th>track_id</th>\n    </tr>\n  </thead>\n  <tbody>\n    <tr>\n      <th>0</th>\n      <td>101</td>\n      <td>01q4ccXbvPlCwZ1fPiFaeM</td>\n    </tr>\n    <tr>\n      <th>1</th>\n      <td>101</td>\n      <td>02ePjHjIiszSYqeLykvpTN</td>\n    </tr>\n    <tr>\n      <th>2</th>\n      <td>101</td>\n      <td>02ppMPbg1OtEdHgoPqoqju</td>\n    </tr>\n    <tr>\n      <th>3</th>\n      <td>101</td>\n      <td>03EnOL1O9EKi9CFNmPyrCm</td>\n    </tr>\n    <tr>\n      <th>4</th>\n      <td>101</td>\n      <td>0534jmQ0dYChW5MSzYXNVr</td>\n    </tr>\n    <tr>\n      <th>...</th>\n      <td>...</td>\n      <td>...</td>\n    </tr>\n    <tr>\n      <th>2568073</th>\n      <td>5100</td>\n      <td>7xD7MvjAdZkx1YICschIuI</td>\n    </tr>\n    <tr>\n      <th>2568074</th>\n      <td>5100</td>\n      <td>7xa3dJQMzBVzsrZ81tNcHP</td>\n    </tr>\n    <tr>\n      <th>2568075</th>\n      <td>5100</td>\n      <td>7yYvvOB7CuzdVldb6zOk1m</td>\n    </tr>\n    <tr>\n      <th>2568076</th>\n      <td>5100</td>\n      <td>7ygpwy2qP3NbrxVkHvUhXY</td>\n    </tr>\n    <tr>\n      <th>2568077</th>\n      <td>5100</td>\n      <td>7zjzu90Q4mtNNaE9Ol9Zbv</td>\n    </tr>\n  </tbody>\n</table>\n<p>2568078 rows × 2 columns</p>\n</div>"
     },
     "metadata": {},
     "output_type": "display_data"
    },
    {
     "data": {
      "text/plain": "                           id               id_artist  acousticness  \\\n0      4y8icjzu6fZP503Mg31Tpn  5V0MlUE1Bft0mbLlND7FJz       0.87800   \n1      4hHbeIIKO5Y5uLyIEbY9Gn  1Mxqyy3pSjf8kZZL4QVxS0       0.84500   \n2      0KSHmjK7OFtGocvbo7NZNO  6kACVPfCOnqzgfEF5ryl0x       0.80300   \n3      30V02AmDYMRvrHE4L8cZAo  22bE4uQ6baNwSHPVcDxLCe       0.17800   \n4      2CQRYn5cTD2B9a1ONjhTN2  3oDbviiivRWhXwIE8hxkVV       0.72500   \n...                       ...                     ...           ...   \n22407  3atrFJhUzDm5xiutqfEPkP  74XFHRwlV6OrjEM0A2NCMF       0.00576   \n22408  3wYzd4dzWknPdgwNaPGQvg  7JthQ6zwNzfxRfIEjp6wUs       0.06960   \n22409  6UIcN1tiiGdd7oMMzNvyaP  7lbSsjYACZHn1MSDXPxNF2       0.06010   \n22410  62i2LI6iDmAHbE9H9wa99z  7k73EtZwoPs516ZxE72KsO       0.38500   \n22411  2bAAj29XGc4h1G4oEGYCmg  7n2Ycct7Beij7Dj7meI4X0       0.03120   \n\n       danceability  duration_ms  energy  instrumentalness  key  liveness  \\\n0             0.184       224227   0.292          0.000258    7    0.3460   \n1             0.574       199093   0.338          0.000000    6    0.1650   \n2             0.754       107280   0.484          0.000009   10    0.0989   \n3             0.578       133320   0.429          0.000060    2    0.1710   \n4             0.396       145800   0.686          0.000001    5    0.1700   \n...             ...          ...     ...               ...  ...       ...   \n22407         0.489       218333   0.611          0.000008    6    0.0917   \n22408         0.607       191474   0.605          0.000000    3    0.4540   \n22409         0.479       297502   0.478          0.000007    5    0.0813   \n22410         0.470       216970   0.738          0.000621    8    0.0656   \n22411         0.739       199653   0.841          0.000000    5    0.1730   \n\n       loudness  popularity  release_year  speechiness    tempo  valence  \n0       -12.246          55          1956       0.0312   75.630   0.1430  \n1       -11.376          69          1958       0.0420   67.008   0.4930  \n2        -9.196          52          1959       0.0609   82.761   0.8010  \n3        -9.601          57          1965       0.0268  108.738   0.0889  \n4        -5.607          57          1966       0.0341  124.318   0.7170  \n...         ...         ...           ...          ...      ...      ...  \n22407    -5.675          52          2007       0.0337  140.956   0.1860  \n22408    -6.050          65          2021       0.1590   83.913   0.6650  \n22409    -8.884          53          2020       0.1100  100.040   0.1170  \n22410    -4.641          52          2017       0.0398   97.973   0.4880  \n22411    -4.162          61          2020       0.0600  106.990   0.5620  \n\n[22412 rows x 15 columns]",
      "text/html": "<div>\n<style scoped>\n    .dataframe tbody tr th:only-of-type {\n        vertical-align: middle;\n    }\n\n    .dataframe tbody tr th {\n        vertical-align: top;\n    }\n\n    .dataframe thead th {\n        text-align: right;\n    }\n</style>\n<table border=\"1\" class=\"dataframe\">\n  <thead>\n    <tr style=\"text-align: right;\">\n      <th></th>\n      <th>id</th>\n      <th>id_artist</th>\n      <th>acousticness</th>\n      <th>danceability</th>\n      <th>duration_ms</th>\n      <th>energy</th>\n      <th>instrumentalness</th>\n      <th>key</th>\n      <th>liveness</th>\n      <th>loudness</th>\n      <th>popularity</th>\n      <th>release_year</th>\n      <th>speechiness</th>\n      <th>tempo</th>\n      <th>valence</th>\n    </tr>\n  </thead>\n  <tbody>\n    <tr>\n      <th>0</th>\n      <td>4y8icjzu6fZP503Mg31Tpn</td>\n      <td>5V0MlUE1Bft0mbLlND7FJz</td>\n      <td>0.87800</td>\n      <td>0.184</td>\n      <td>224227</td>\n      <td>0.292</td>\n      <td>0.000258</td>\n      <td>7</td>\n      <td>0.3460</td>\n      <td>-12.246</td>\n      <td>55</td>\n      <td>1956</td>\n      <td>0.0312</td>\n      <td>75.630</td>\n      <td>0.1430</td>\n    </tr>\n    <tr>\n      <th>1</th>\n      <td>4hHbeIIKO5Y5uLyIEbY9Gn</td>\n      <td>1Mxqyy3pSjf8kZZL4QVxS0</td>\n      <td>0.84500</td>\n      <td>0.574</td>\n      <td>199093</td>\n      <td>0.338</td>\n      <td>0.000000</td>\n      <td>6</td>\n      <td>0.1650</td>\n      <td>-11.376</td>\n      <td>69</td>\n      <td>1958</td>\n      <td>0.0420</td>\n      <td>67.008</td>\n      <td>0.4930</td>\n    </tr>\n    <tr>\n      <th>2</th>\n      <td>0KSHmjK7OFtGocvbo7NZNO</td>\n      <td>6kACVPfCOnqzgfEF5ryl0x</td>\n      <td>0.80300</td>\n      <td>0.754</td>\n      <td>107280</td>\n      <td>0.484</td>\n      <td>0.000009</td>\n      <td>10</td>\n      <td>0.0989</td>\n      <td>-9.196</td>\n      <td>52</td>\n      <td>1959</td>\n      <td>0.0609</td>\n      <td>82.761</td>\n      <td>0.8010</td>\n    </tr>\n    <tr>\n      <th>3</th>\n      <td>30V02AmDYMRvrHE4L8cZAo</td>\n      <td>22bE4uQ6baNwSHPVcDxLCe</td>\n      <td>0.17800</td>\n      <td>0.578</td>\n      <td>133320</td>\n      <td>0.429</td>\n      <td>0.000060</td>\n      <td>2</td>\n      <td>0.1710</td>\n      <td>-9.601</td>\n      <td>57</td>\n      <td>1965</td>\n      <td>0.0268</td>\n      <td>108.738</td>\n      <td>0.0889</td>\n    </tr>\n    <tr>\n      <th>4</th>\n      <td>2CQRYn5cTD2B9a1ONjhTN2</td>\n      <td>3oDbviiivRWhXwIE8hxkVV</td>\n      <td>0.72500</td>\n      <td>0.396</td>\n      <td>145800</td>\n      <td>0.686</td>\n      <td>0.000001</td>\n      <td>5</td>\n      <td>0.1700</td>\n      <td>-5.607</td>\n      <td>57</td>\n      <td>1966</td>\n      <td>0.0341</td>\n      <td>124.318</td>\n      <td>0.7170</td>\n    </tr>\n    <tr>\n      <th>...</th>\n      <td>...</td>\n      <td>...</td>\n      <td>...</td>\n      <td>...</td>\n      <td>...</td>\n      <td>...</td>\n      <td>...</td>\n      <td>...</td>\n      <td>...</td>\n      <td>...</td>\n      <td>...</td>\n      <td>...</td>\n      <td>...</td>\n      <td>...</td>\n      <td>...</td>\n    </tr>\n    <tr>\n      <th>22407</th>\n      <td>3atrFJhUzDm5xiutqfEPkP</td>\n      <td>74XFHRwlV6OrjEM0A2NCMF</td>\n      <td>0.00576</td>\n      <td>0.489</td>\n      <td>218333</td>\n      <td>0.611</td>\n      <td>0.000008</td>\n      <td>6</td>\n      <td>0.0917</td>\n      <td>-5.675</td>\n      <td>52</td>\n      <td>2007</td>\n      <td>0.0337</td>\n      <td>140.956</td>\n      <td>0.1860</td>\n    </tr>\n    <tr>\n      <th>22408</th>\n      <td>3wYzd4dzWknPdgwNaPGQvg</td>\n      <td>7JthQ6zwNzfxRfIEjp6wUs</td>\n      <td>0.06960</td>\n      <td>0.607</td>\n      <td>191474</td>\n      <td>0.605</td>\n      <td>0.000000</td>\n      <td>3</td>\n      <td>0.4540</td>\n      <td>-6.050</td>\n      <td>65</td>\n      <td>2021</td>\n      <td>0.1590</td>\n      <td>83.913</td>\n      <td>0.6650</td>\n    </tr>\n    <tr>\n      <th>22409</th>\n      <td>6UIcN1tiiGdd7oMMzNvyaP</td>\n      <td>7lbSsjYACZHn1MSDXPxNF2</td>\n      <td>0.06010</td>\n      <td>0.479</td>\n      <td>297502</td>\n      <td>0.478</td>\n      <td>0.000007</td>\n      <td>5</td>\n      <td>0.0813</td>\n      <td>-8.884</td>\n      <td>53</td>\n      <td>2020</td>\n      <td>0.1100</td>\n      <td>100.040</td>\n      <td>0.1170</td>\n    </tr>\n    <tr>\n      <th>22410</th>\n      <td>62i2LI6iDmAHbE9H9wa99z</td>\n      <td>7k73EtZwoPs516ZxE72KsO</td>\n      <td>0.38500</td>\n      <td>0.470</td>\n      <td>216970</td>\n      <td>0.738</td>\n      <td>0.000621</td>\n      <td>8</td>\n      <td>0.0656</td>\n      <td>-4.641</td>\n      <td>52</td>\n      <td>2017</td>\n      <td>0.0398</td>\n      <td>97.973</td>\n      <td>0.4880</td>\n    </tr>\n    <tr>\n      <th>22411</th>\n      <td>2bAAj29XGc4h1G4oEGYCmg</td>\n      <td>7n2Ycct7Beij7Dj7meI4X0</td>\n      <td>0.03120</td>\n      <td>0.739</td>\n      <td>199653</td>\n      <td>0.841</td>\n      <td>0.000000</td>\n      <td>5</td>\n      <td>0.1730</td>\n      <td>-4.162</td>\n      <td>61</td>\n      <td>2020</td>\n      <td>0.0600</td>\n      <td>106.990</td>\n      <td>0.5620</td>\n    </tr>\n  </tbody>\n</table>\n<p>22412 rows × 15 columns</p>\n</div>"
     },
     "metadata": {},
     "output_type": "display_data"
    },
    {
     "data": {
      "text/plain": "      user_id\n0         101\n1         102\n2         103\n3         104\n4         105\n...       ...\n4995     5096\n4996     5097\n4997     5098\n4998     5099\n4999     5100\n\n[5000 rows x 1 columns]",
      "text/html": "<div>\n<style scoped>\n    .dataframe tbody tr th:only-of-type {\n        vertical-align: middle;\n    }\n\n    .dataframe tbody tr th {\n        vertical-align: top;\n    }\n\n    .dataframe thead th {\n        text-align: right;\n    }\n</style>\n<table border=\"1\" class=\"dataframe\">\n  <thead>\n    <tr style=\"text-align: right;\">\n      <th></th>\n      <th>user_id</th>\n    </tr>\n  </thead>\n  <tbody>\n    <tr>\n      <th>0</th>\n      <td>101</td>\n    </tr>\n    <tr>\n      <th>1</th>\n      <td>102</td>\n    </tr>\n    <tr>\n      <th>2</th>\n      <td>103</td>\n    </tr>\n    <tr>\n      <th>3</th>\n      <td>104</td>\n    </tr>\n    <tr>\n      <th>4</th>\n      <td>105</td>\n    </tr>\n    <tr>\n      <th>...</th>\n      <td>...</td>\n    </tr>\n    <tr>\n      <th>4995</th>\n      <td>5096</td>\n    </tr>\n    <tr>\n      <th>4996</th>\n      <td>5097</td>\n    </tr>\n    <tr>\n      <th>4997</th>\n      <td>5098</td>\n    </tr>\n    <tr>\n      <th>4998</th>\n      <td>5099</td>\n    </tr>\n    <tr>\n      <th>4999</th>\n      <td>5100</td>\n    </tr>\n  </tbody>\n</table>\n<p>5000 rows × 1 columns</p>\n</div>"
     },
     "metadata": {},
     "output_type": "display_data"
    }
   ],
   "source": [
    "display(sessions_full)\n",
    "display(sessions)\n",
    "display(_tracks)\n",
    "display(users)"
   ],
   "metadata": {
    "collapsed": false,
    "ExecuteTime": {
     "end_time": "2024-01-19T22:54:49.788093385Z",
     "start_time": "2024-01-19T22:54:49.702381186Z"
    }
   },
   "id": "835865a1922582e9"
  },
  {
   "cell_type": "markdown",
   "source": [
    "Standardize all numeric features in `tracks` ($\\mu=0$, $\\sigma=1$)."
   ],
   "metadata": {
    "collapsed": false
   },
   "id": "f469000f75779a22"
  },
  {
   "cell_type": "code",
   "execution_count": 5,
   "outputs": [
    {
     "data": {
      "text/plain": "                           id               id_artist  acousticness  \\\n0      4y8icjzu6fZP503Mg31Tpn  5V0MlUE1Bft0mbLlND7FJz      2.210183   \n1      4hHbeIIKO5Y5uLyIEbY9Gn  1Mxqyy3pSjf8kZZL4QVxS0      2.090663   \n2      0KSHmjK7OFtGocvbo7NZNO  6kACVPfCOnqzgfEF5ryl0x      1.938547   \n3      30V02AmDYMRvrHE4L8cZAo  22bE4uQ6baNwSHPVcDxLCe     -0.325086   \n4      2CQRYn5cTD2B9a1ONjhTN2  3oDbviiivRWhXwIE8hxkVV      1.656046   \n...                       ...                     ...           ...   \n22407  3atrFJhUzDm5xiutqfEPkP  74XFHRwlV6OrjEM0A2NCMF     -0.948906   \n22408  3wYzd4dzWknPdgwNaPGQvg  7JthQ6zwNzfxRfIEjp6wUs     -0.717690   \n22409  6UIcN1tiiGdd7oMMzNvyaP  7lbSsjYACZHn1MSDXPxNF2     -0.752097   \n22410  62i2LI6iDmAHbE9H9wa99z  7k73EtZwoPs516ZxE72KsO      0.424630   \n22411  2bAAj29XGc4h1G4oEGYCmg  7n2Ycct7Beij7Dj7meI4X0     -0.856768   \n\n       danceability  duration_ms    energy  instrumentalness       key  \\\n0         -2.622956    -0.081994 -1.698778         -0.261491  0.483649   \n1         -0.158580    -0.430623 -1.479284         -0.263179  0.202650   \n2          0.978824    -1.704140 -0.782628         -0.263120  1.326645   \n3         -0.133305    -1.342945 -1.045067         -0.262786 -0.921346   \n4         -1.283347    -1.169838  0.181238         -0.263172 -0.078349   \n...             ...          ...       ...               ...       ...   \n22407     -0.695688    -0.163749 -0.176633         -0.263129  0.202650   \n22408      0.049944    -0.536304 -0.205263         -0.263179 -0.640347   \n22409     -0.758877     0.934387 -0.811258         -0.263132 -0.078349   \n22410     -0.815747    -0.182655  0.429362         -0.259116  0.764647   \n22411      0.884040    -0.422855  0.920838         -0.263179 -0.078349   \n\n       liveness  loudness  popularity  release_year  speechiness     tempo  \\\n0      0.910200 -1.350924   -0.792191     -3.602614    -0.579005 -1.562809   \n1     -0.167568 -1.118180    0.947358     -3.458942    -0.458085 -1.853949   \n2     -0.561162 -0.534983   -1.164951     -3.387106    -0.246475 -1.322015   \n3     -0.131841 -0.643329   -0.543684     -2.956090    -0.628269 -0.444846   \n4     -0.137796  0.425153   -0.543684     -2.884254    -0.546536  0.081246   \n...         ...       ...         ...           ...          ...       ...   \n22407 -0.604035  0.406961   -1.164951      0.061025    -0.551015  0.643063   \n22408  1.553288  0.306641    0.450344      1.066730     0.851883 -1.283116   \n22409 -0.665962 -0.451516   -1.040697      0.994894     0.303264 -0.738553   \n22410 -0.759448  0.683579   -1.164951      0.779385    -0.482717 -0.808350   \n22411 -0.119932  0.811722   -0.046670      0.994894    -0.256552 -0.503871   \n\n        valence  \n0     -1.533923  \n1     -0.102263  \n2      1.157598  \n3     -1.755216  \n4      0.814000  \n...         ...  \n22407 -1.358033  \n22408  0.601296  \n22409 -1.640275  \n22410 -0.122715  \n22411  0.179979  \n\n[22412 rows x 15 columns]",
      "text/html": "<div>\n<style scoped>\n    .dataframe tbody tr th:only-of-type {\n        vertical-align: middle;\n    }\n\n    .dataframe tbody tr th {\n        vertical-align: top;\n    }\n\n    .dataframe thead th {\n        text-align: right;\n    }\n</style>\n<table border=\"1\" class=\"dataframe\">\n  <thead>\n    <tr style=\"text-align: right;\">\n      <th></th>\n      <th>id</th>\n      <th>id_artist</th>\n      <th>acousticness</th>\n      <th>danceability</th>\n      <th>duration_ms</th>\n      <th>energy</th>\n      <th>instrumentalness</th>\n      <th>key</th>\n      <th>liveness</th>\n      <th>loudness</th>\n      <th>popularity</th>\n      <th>release_year</th>\n      <th>speechiness</th>\n      <th>tempo</th>\n      <th>valence</th>\n    </tr>\n  </thead>\n  <tbody>\n    <tr>\n      <th>0</th>\n      <td>4y8icjzu6fZP503Mg31Tpn</td>\n      <td>5V0MlUE1Bft0mbLlND7FJz</td>\n      <td>2.210183</td>\n      <td>-2.622956</td>\n      <td>-0.081994</td>\n      <td>-1.698778</td>\n      <td>-0.261491</td>\n      <td>0.483649</td>\n      <td>0.910200</td>\n      <td>-1.350924</td>\n      <td>-0.792191</td>\n      <td>-3.602614</td>\n      <td>-0.579005</td>\n      <td>-1.562809</td>\n      <td>-1.533923</td>\n    </tr>\n    <tr>\n      <th>1</th>\n      <td>4hHbeIIKO5Y5uLyIEbY9Gn</td>\n      <td>1Mxqyy3pSjf8kZZL4QVxS0</td>\n      <td>2.090663</td>\n      <td>-0.158580</td>\n      <td>-0.430623</td>\n      <td>-1.479284</td>\n      <td>-0.263179</td>\n      <td>0.202650</td>\n      <td>-0.167568</td>\n      <td>-1.118180</td>\n      <td>0.947358</td>\n      <td>-3.458942</td>\n      <td>-0.458085</td>\n      <td>-1.853949</td>\n      <td>-0.102263</td>\n    </tr>\n    <tr>\n      <th>2</th>\n      <td>0KSHmjK7OFtGocvbo7NZNO</td>\n      <td>6kACVPfCOnqzgfEF5ryl0x</td>\n      <td>1.938547</td>\n      <td>0.978824</td>\n      <td>-1.704140</td>\n      <td>-0.782628</td>\n      <td>-0.263120</td>\n      <td>1.326645</td>\n      <td>-0.561162</td>\n      <td>-0.534983</td>\n      <td>-1.164951</td>\n      <td>-3.387106</td>\n      <td>-0.246475</td>\n      <td>-1.322015</td>\n      <td>1.157598</td>\n    </tr>\n    <tr>\n      <th>3</th>\n      <td>30V02AmDYMRvrHE4L8cZAo</td>\n      <td>22bE4uQ6baNwSHPVcDxLCe</td>\n      <td>-0.325086</td>\n      <td>-0.133305</td>\n      <td>-1.342945</td>\n      <td>-1.045067</td>\n      <td>-0.262786</td>\n      <td>-0.921346</td>\n      <td>-0.131841</td>\n      <td>-0.643329</td>\n      <td>-0.543684</td>\n      <td>-2.956090</td>\n      <td>-0.628269</td>\n      <td>-0.444846</td>\n      <td>-1.755216</td>\n    </tr>\n    <tr>\n      <th>4</th>\n      <td>2CQRYn5cTD2B9a1ONjhTN2</td>\n      <td>3oDbviiivRWhXwIE8hxkVV</td>\n      <td>1.656046</td>\n      <td>-1.283347</td>\n      <td>-1.169838</td>\n      <td>0.181238</td>\n      <td>-0.263172</td>\n      <td>-0.078349</td>\n      <td>-0.137796</td>\n      <td>0.425153</td>\n      <td>-0.543684</td>\n      <td>-2.884254</td>\n      <td>-0.546536</td>\n      <td>0.081246</td>\n      <td>0.814000</td>\n    </tr>\n    <tr>\n      <th>...</th>\n      <td>...</td>\n      <td>...</td>\n      <td>...</td>\n      <td>...</td>\n      <td>...</td>\n      <td>...</td>\n      <td>...</td>\n      <td>...</td>\n      <td>...</td>\n      <td>...</td>\n      <td>...</td>\n      <td>...</td>\n      <td>...</td>\n      <td>...</td>\n      <td>...</td>\n    </tr>\n    <tr>\n      <th>22407</th>\n      <td>3atrFJhUzDm5xiutqfEPkP</td>\n      <td>74XFHRwlV6OrjEM0A2NCMF</td>\n      <td>-0.948906</td>\n      <td>-0.695688</td>\n      <td>-0.163749</td>\n      <td>-0.176633</td>\n      <td>-0.263129</td>\n      <td>0.202650</td>\n      <td>-0.604035</td>\n      <td>0.406961</td>\n      <td>-1.164951</td>\n      <td>0.061025</td>\n      <td>-0.551015</td>\n      <td>0.643063</td>\n      <td>-1.358033</td>\n    </tr>\n    <tr>\n      <th>22408</th>\n      <td>3wYzd4dzWknPdgwNaPGQvg</td>\n      <td>7JthQ6zwNzfxRfIEjp6wUs</td>\n      <td>-0.717690</td>\n      <td>0.049944</td>\n      <td>-0.536304</td>\n      <td>-0.205263</td>\n      <td>-0.263179</td>\n      <td>-0.640347</td>\n      <td>1.553288</td>\n      <td>0.306641</td>\n      <td>0.450344</td>\n      <td>1.066730</td>\n      <td>0.851883</td>\n      <td>-1.283116</td>\n      <td>0.601296</td>\n    </tr>\n    <tr>\n      <th>22409</th>\n      <td>6UIcN1tiiGdd7oMMzNvyaP</td>\n      <td>7lbSsjYACZHn1MSDXPxNF2</td>\n      <td>-0.752097</td>\n      <td>-0.758877</td>\n      <td>0.934387</td>\n      <td>-0.811258</td>\n      <td>-0.263132</td>\n      <td>-0.078349</td>\n      <td>-0.665962</td>\n      <td>-0.451516</td>\n      <td>-1.040697</td>\n      <td>0.994894</td>\n      <td>0.303264</td>\n      <td>-0.738553</td>\n      <td>-1.640275</td>\n    </tr>\n    <tr>\n      <th>22410</th>\n      <td>62i2LI6iDmAHbE9H9wa99z</td>\n      <td>7k73EtZwoPs516ZxE72KsO</td>\n      <td>0.424630</td>\n      <td>-0.815747</td>\n      <td>-0.182655</td>\n      <td>0.429362</td>\n      <td>-0.259116</td>\n      <td>0.764647</td>\n      <td>-0.759448</td>\n      <td>0.683579</td>\n      <td>-1.164951</td>\n      <td>0.779385</td>\n      <td>-0.482717</td>\n      <td>-0.808350</td>\n      <td>-0.122715</td>\n    </tr>\n    <tr>\n      <th>22411</th>\n      <td>2bAAj29XGc4h1G4oEGYCmg</td>\n      <td>7n2Ycct7Beij7Dj7meI4X0</td>\n      <td>-0.856768</td>\n      <td>0.884040</td>\n      <td>-0.422855</td>\n      <td>0.920838</td>\n      <td>-0.263179</td>\n      <td>-0.078349</td>\n      <td>-0.119932</td>\n      <td>0.811722</td>\n      <td>-0.046670</td>\n      <td>0.994894</td>\n      <td>-0.256552</td>\n      <td>-0.503871</td>\n      <td>0.179979</td>\n    </tr>\n  </tbody>\n</table>\n<p>22412 rows × 15 columns</p>\n</div>"
     },
     "metadata": {},
     "output_type": "display_data"
    }
   ],
   "source": [
    "from scipy import stats\n",
    "\n",
    "# normalize track features\n",
    "tracks = pd.concat([_tracks[['id', 'id_artist']], _tracks.drop(['id', 'id_artist'], axis=1).apply(stats.zscore)],\n",
    "                   axis=1)\n",
    "display(tracks)"
   ],
   "metadata": {
    "collapsed": false,
    "ExecuteTime": {
     "end_time": "2024-01-19T22:54:50.486908613Z",
     "start_time": "2024-01-19T22:54:49.770913369Z"
    }
   },
   "id": "2620a6f75cb57503"
  },
  {
   "cell_type": "markdown",
   "source": [
    "Query for sessions:\n",
    "- Group user-track interactions (this can be used to create event weights later on)\n",
    "- Exclude tracks from `sessions.jsonl` not present in `tracks.jsonl`\n",
    "- Filter event type"
   ],
   "metadata": {
    "collapsed": false
   },
   "id": "3474b86a65e479bf"
  },
  {
   "cell_type": "code",
   "execution_count": 6,
   "outputs": [
    {
     "name": "stderr",
     "output_type": "stream",
     "text": [
      "                                                                                \r"
     ]
    },
    {
     "data": {
      "text/plain": "         user_id                track_id  weight  acousticness  danceability  \\\n0            101  01q4ccXbvPlCwZ1fPiFaeM       1      0.126000         0.680   \n1            101  02ePjHjIiszSYqeLykvpTN       2      0.159000         0.487   \n2            101  02ppMPbg1OtEdHgoPqoqju       1      0.511000         0.523   \n3            101  03EnOL1O9EKi9CFNmPyrCm       1      0.497000         0.555   \n4            101  0534jmQ0dYChW5MSzYXNVr       1      0.019400         0.590   \n...          ...                     ...     ...           ...           ...   \n2568073     5100  7xD7MvjAdZkx1YICschIuI       1      0.663000         0.544   \n2568074     5100  7xa3dJQMzBVzsrZ81tNcHP       2      0.000094         0.319   \n2568075     5100  7yYvvOB7CuzdVldb6zOk1m       1      0.001240         0.659   \n2568076     5100  7ygpwy2qP3NbrxVkHvUhXY       1      0.000509         0.375   \n2568077     5100  7zjzu90Q4mtNNaE9Ol9Zbv       1      0.005550         0.569   \n\n         duration_ms  energy  instrumentalness  key  liveness  loudness  \\\n0             122760   0.626          0.000001    7    0.0995    -8.519   \n1             220920   0.909          0.000001    9    0.3030    -3.484   \n2             290213   0.656          0.160000    4    0.0679    -7.441   \n3             355640   0.460          0.000000    9    0.1030    -7.032   \n4             265960   0.711          0.000000    0    0.1220    -7.589   \n...              ...     ...               ...  ...       ...       ...   \n2568073       224667   0.884          0.000007    8    0.3810    -8.166   \n2568074       203653   0.965          0.002210    7    0.1410    -4.354   \n2568075       288973   0.846          0.000000    7    0.0415    -7.579   \n2568076       258773   0.893          0.000000    2    0.1870    -4.097   \n2568077       259413   0.901          0.260000    9    0.1600    -5.197   \n\n         popularity  release_year  speechiness    tempo  valence  \n0                57          1987       0.0255  104.333    0.960  \n1                54          1995       0.0463  125.418    0.510  \n2                63          2007       0.0262  104.271    0.214  \n3                69          2005       0.0277   67.027    0.146  \n4                52          2011       0.0247  143.937    0.847  \n...             ...           ...          ...      ...      ...  \n2568073          53          1976       0.1440  127.215    0.467  \n2568074          52          1992       0.0646  127.721    0.624  \n2568075          52          1998       0.1110   92.803    0.595  \n2568076          76          1995       0.0406  174.323    0.434  \n2568077          60          2009       0.0544  133.194    0.839  \n\n[2568078 rows x 16 columns]",
      "text/html": "<div>\n<style scoped>\n    .dataframe tbody tr th:only-of-type {\n        vertical-align: middle;\n    }\n\n    .dataframe tbody tr th {\n        vertical-align: top;\n    }\n\n    .dataframe thead th {\n        text-align: right;\n    }\n</style>\n<table border=\"1\" class=\"dataframe\">\n  <thead>\n    <tr style=\"text-align: right;\">\n      <th></th>\n      <th>user_id</th>\n      <th>track_id</th>\n      <th>weight</th>\n      <th>acousticness</th>\n      <th>danceability</th>\n      <th>duration_ms</th>\n      <th>energy</th>\n      <th>instrumentalness</th>\n      <th>key</th>\n      <th>liveness</th>\n      <th>loudness</th>\n      <th>popularity</th>\n      <th>release_year</th>\n      <th>speechiness</th>\n      <th>tempo</th>\n      <th>valence</th>\n    </tr>\n  </thead>\n  <tbody>\n    <tr>\n      <th>0</th>\n      <td>101</td>\n      <td>01q4ccXbvPlCwZ1fPiFaeM</td>\n      <td>1</td>\n      <td>0.126000</td>\n      <td>0.680</td>\n      <td>122760</td>\n      <td>0.626</td>\n      <td>0.000001</td>\n      <td>7</td>\n      <td>0.0995</td>\n      <td>-8.519</td>\n      <td>57</td>\n      <td>1987</td>\n      <td>0.0255</td>\n      <td>104.333</td>\n      <td>0.960</td>\n    </tr>\n    <tr>\n      <th>1</th>\n      <td>101</td>\n      <td>02ePjHjIiszSYqeLykvpTN</td>\n      <td>2</td>\n      <td>0.159000</td>\n      <td>0.487</td>\n      <td>220920</td>\n      <td>0.909</td>\n      <td>0.000001</td>\n      <td>9</td>\n      <td>0.3030</td>\n      <td>-3.484</td>\n      <td>54</td>\n      <td>1995</td>\n      <td>0.0463</td>\n      <td>125.418</td>\n      <td>0.510</td>\n    </tr>\n    <tr>\n      <th>2</th>\n      <td>101</td>\n      <td>02ppMPbg1OtEdHgoPqoqju</td>\n      <td>1</td>\n      <td>0.511000</td>\n      <td>0.523</td>\n      <td>290213</td>\n      <td>0.656</td>\n      <td>0.160000</td>\n      <td>4</td>\n      <td>0.0679</td>\n      <td>-7.441</td>\n      <td>63</td>\n      <td>2007</td>\n      <td>0.0262</td>\n      <td>104.271</td>\n      <td>0.214</td>\n    </tr>\n    <tr>\n      <th>3</th>\n      <td>101</td>\n      <td>03EnOL1O9EKi9CFNmPyrCm</td>\n      <td>1</td>\n      <td>0.497000</td>\n      <td>0.555</td>\n      <td>355640</td>\n      <td>0.460</td>\n      <td>0.000000</td>\n      <td>9</td>\n      <td>0.1030</td>\n      <td>-7.032</td>\n      <td>69</td>\n      <td>2005</td>\n      <td>0.0277</td>\n      <td>67.027</td>\n      <td>0.146</td>\n    </tr>\n    <tr>\n      <th>4</th>\n      <td>101</td>\n      <td>0534jmQ0dYChW5MSzYXNVr</td>\n      <td>1</td>\n      <td>0.019400</td>\n      <td>0.590</td>\n      <td>265960</td>\n      <td>0.711</td>\n      <td>0.000000</td>\n      <td>0</td>\n      <td>0.1220</td>\n      <td>-7.589</td>\n      <td>52</td>\n      <td>2011</td>\n      <td>0.0247</td>\n      <td>143.937</td>\n      <td>0.847</td>\n    </tr>\n    <tr>\n      <th>...</th>\n      <td>...</td>\n      <td>...</td>\n      <td>...</td>\n      <td>...</td>\n      <td>...</td>\n      <td>...</td>\n      <td>...</td>\n      <td>...</td>\n      <td>...</td>\n      <td>...</td>\n      <td>...</td>\n      <td>...</td>\n      <td>...</td>\n      <td>...</td>\n      <td>...</td>\n      <td>...</td>\n    </tr>\n    <tr>\n      <th>2568073</th>\n      <td>5100</td>\n      <td>7xD7MvjAdZkx1YICschIuI</td>\n      <td>1</td>\n      <td>0.663000</td>\n      <td>0.544</td>\n      <td>224667</td>\n      <td>0.884</td>\n      <td>0.000007</td>\n      <td>8</td>\n      <td>0.3810</td>\n      <td>-8.166</td>\n      <td>53</td>\n      <td>1976</td>\n      <td>0.1440</td>\n      <td>127.215</td>\n      <td>0.467</td>\n    </tr>\n    <tr>\n      <th>2568074</th>\n      <td>5100</td>\n      <td>7xa3dJQMzBVzsrZ81tNcHP</td>\n      <td>2</td>\n      <td>0.000094</td>\n      <td>0.319</td>\n      <td>203653</td>\n      <td>0.965</td>\n      <td>0.002210</td>\n      <td>7</td>\n      <td>0.1410</td>\n      <td>-4.354</td>\n      <td>52</td>\n      <td>1992</td>\n      <td>0.0646</td>\n      <td>127.721</td>\n      <td>0.624</td>\n    </tr>\n    <tr>\n      <th>2568075</th>\n      <td>5100</td>\n      <td>7yYvvOB7CuzdVldb6zOk1m</td>\n      <td>1</td>\n      <td>0.001240</td>\n      <td>0.659</td>\n      <td>288973</td>\n      <td>0.846</td>\n      <td>0.000000</td>\n      <td>7</td>\n      <td>0.0415</td>\n      <td>-7.579</td>\n      <td>52</td>\n      <td>1998</td>\n      <td>0.1110</td>\n      <td>92.803</td>\n      <td>0.595</td>\n    </tr>\n    <tr>\n      <th>2568076</th>\n      <td>5100</td>\n      <td>7ygpwy2qP3NbrxVkHvUhXY</td>\n      <td>1</td>\n      <td>0.000509</td>\n      <td>0.375</td>\n      <td>258773</td>\n      <td>0.893</td>\n      <td>0.000000</td>\n      <td>2</td>\n      <td>0.1870</td>\n      <td>-4.097</td>\n      <td>76</td>\n      <td>1995</td>\n      <td>0.0406</td>\n      <td>174.323</td>\n      <td>0.434</td>\n    </tr>\n    <tr>\n      <th>2568077</th>\n      <td>5100</td>\n      <td>7zjzu90Q4mtNNaE9Ol9Zbv</td>\n      <td>1</td>\n      <td>0.005550</td>\n      <td>0.569</td>\n      <td>259413</td>\n      <td>0.901</td>\n      <td>0.260000</td>\n      <td>9</td>\n      <td>0.1600</td>\n      <td>-5.197</td>\n      <td>60</td>\n      <td>2009</td>\n      <td>0.0544</td>\n      <td>133.194</td>\n      <td>0.839</td>\n    </tr>\n  </tbody>\n</table>\n<p>2568078 rows × 16 columns</p>\n</div>"
     },
     "execution_count": 6,
     "metadata": {},
     "output_type": "execute_result"
    }
   ],
   "source": [
    "d = spark.sql(\n",
    "    \"\"\"\n",
    "    SELECT s.user_id, s.track_id, s.weight, acousticness, danceability, duration_ms, energy, instrumentalness, key, liveness, loudness, popularity, EXTRACT(year from `release_date`) as release_year, speechiness, tempo, valence\n",
    "    FROM (\n",
    "        select user_id, track_id, sum(event_weight) as weight\n",
    "        from (\n",
    "            SELECT user_id, track_id, 1 as event_weight\n",
    "            FROM sessions\n",
    "            WHERE event_type like 'like'\n",
    "            ) \n",
    "        group by user_id, track_id\n",
    "    ) s\n",
    "    inner join tracks t on s.track_id = t.id\n",
    "    order by s.user_id, t.id\n",
    "    \"\"\").toPandas()\n",
    "d"
   ],
   "metadata": {
    "collapsed": false,
    "ExecuteTime": {
     "end_time": "2024-01-19T22:54:59.819335013Z",
     "start_time": "2024-01-19T22:54:50.486570838Z"
    }
   },
   "id": "e5968ee30342123a"
  },
  {
   "cell_type": "markdown",
   "source": [
    "Create a LightFm `Dataset`."
   ],
   "metadata": {
    "collapsed": false
   },
   "id": "fcfd663350bbe1db"
  },
  {
   "cell_type": "code",
   "execution_count": 7,
   "outputs": [
    {
     "name": "stdout",
     "output_type": "stream",
     "text": [
      "Num users: 5000, num_items 22412.\n"
     ]
    }
   ],
   "source": [
    "from lightfm.data import Dataset\n",
    "\n",
    "dataset = Dataset()\n",
    "# all user and track ids\n",
    "dataset.fit(\n",
    "    users=users['user_id'],\n",
    "    items=tracks['id']\n",
    ")\n",
    "\n",
    "dataset.fit_partial(\n",
    "    items=tracks['id'],\n",
    "    # must follow the same order\n",
    "    item_features=tracks.drop('id', axis=1)\n",
    ")\n",
    "\n",
    "num_users, num_items = dataset.interactions_shape()\n",
    "print('Num users: {}, num_items {}.'.format(num_users, num_items))"
   ],
   "metadata": {
    "collapsed": false,
    "ExecuteTime": {
     "end_time": "2024-01-19T22:54:59.970194538Z",
     "start_time": "2024-01-19T22:54:59.818324236Z"
    }
   },
   "id": "baa266949f163fc8"
  },
  {
   "cell_type": "markdown",
   "source": [
    "Build the interaction matrix from user-track tuples. Weights can also be supplied."
   ],
   "metadata": {
    "collapsed": false
   },
   "id": "2cc6cbcca41ec45e"
  },
  {
   "cell_type": "code",
   "execution_count": 8,
   "outputs": [
    {
     "name": "stdout",
     "output_type": "stream",
     "text": [
      "<5000x22412 sparse matrix of type '<class 'numpy.int32'>'\n",
      "\twith 2568078 stored elements in COOrdinate format>\n"
     ]
    }
   ],
   "source": [
    "(interactions, weights) = dataset.build_interactions(d[['user_id', 'track_id']].apply(tuple, axis=1))\n",
    "\n",
    "print(repr(interactions))"
   ],
   "metadata": {
    "collapsed": false,
    "ExecuteTime": {
     "end_time": "2024-01-19T22:55:12.868093270Z",
     "start_time": "2024-01-19T22:54:59.908069647Z"
    }
   },
   "id": "44849957f9146d37"
  },
  {
   "cell_type": "markdown",
   "source": [
    "Split the dataset 80:20 for training and testing."
   ],
   "metadata": {
    "collapsed": false
   },
   "id": "af7630d86025b527"
  },
  {
   "cell_type": "code",
   "execution_count": 9,
   "outputs": [],
   "source": [
    "from lightfm.cross_validation import random_train_test_split\n",
    "\n",
    "(train, test) = random_train_test_split(interactions)"
   ],
   "metadata": {
    "collapsed": false,
    "ExecuteTime": {
     "end_time": "2024-01-19T22:55:12.969245864Z",
     "start_time": "2024-01-19T22:55:12.867902186Z"
    }
   },
   "id": "8430a4c32defd36b"
  },
  {
   "cell_type": "code",
   "execution_count": 10,
   "outputs": [],
   "source": [
    "from lightfm import LightFM\n",
    "from lightfm.evaluation import auc_score, precision_at_k, recall_at_k, reciprocal_rank"
   ],
   "metadata": {
    "collapsed": false,
    "ExecuteTime": {
     "end_time": "2024-01-19T22:55:12.973570335Z",
     "start_time": "2024-01-19T22:55:12.970856601Z"
    }
   },
   "id": "d7f68e99931f522a"
  },
  {
   "cell_type": "markdown",
   "source": [
    "Build an item feature matrix. This is a LightFm specific step. As we already passed feature values, we only need to supply item-feature name list tuples. LightFM uses a normalization mechanism for feature values which scales them to ensure all weights in every row sum up to 1 - we probably do not want this to happen. "
   ],
   "metadata": {
    "collapsed": false
   },
   "id": "bf36df745c962616"
  },
  {
   "cell_type": "code",
   "execution_count": 11,
   "outputs": [
    {
     "name": "stdout",
     "output_type": "stream",
     "text": [
      "<22412x22426 sparse matrix of type '<class 'numpy.float32'>'\n",
      "\twith 336180 stored elements in Compressed Sparse Row format>\n"
     ]
    }
   ],
   "source": [
    "feature_names = tracks.drop(['id'], axis=1).columns\n",
    "\n",
    "item_features = dataset.build_item_features(\n",
    "    # track id + list of feature name pairs\n",
    "    ((i, feature_names) for i in tracks['id']),\n",
    "    normalize=False)\n",
    "print(repr(item_features))"
   ],
   "metadata": {
    "collapsed": false,
    "ExecuteTime": {
     "end_time": "2024-01-19T22:55:13.208112352Z",
     "start_time": "2024-01-19T22:55:12.973842158Z"
    }
   },
   "id": "efc0a3172626105"
  },
  {
   "cell_type": "markdown",
   "source": [
    "Train the model."
   ],
   "metadata": {
    "collapsed": false
   },
   "id": "6effb65cb39f7486"
  },
  {
   "cell_type": "code",
   "execution_count": 12,
   "outputs": [
    {
     "name": "stderr",
     "output_type": "stream",
     "text": [
      "Epoch: 100%|██████████| 10/10 [04:05<00:00, 24.51s/it]\n"
     ]
    },
    {
     "data": {
      "text/plain": "<lightfm.lightfm.LightFM at 0x7f1f1ddf9240>"
     },
     "execution_count": 12,
     "metadata": {},
     "output_type": "execute_result"
    }
   ],
   "source": [
    "model_h = LightFM(\n",
    "    loss='warp',\n",
    "    learning_rate=0.034,\n",
    "    item_alpha=1e-3,\n",
    "    user_alpha=1e-3,\n",
    "    no_components=60,\n",
    ")\n",
    "model_h.fit(\n",
    "    interactions=train,\n",
    "    item_features=item_features,\n",
    "    epochs=10,\n",
    "    num_threads=12,\n",
    "    verbose=True)"
   ],
   "metadata": {
    "collapsed": false,
    "ExecuteTime": {
     "end_time": "2024-01-19T22:59:18.349188829Z",
     "start_time": "2024-01-19T22:55:13.209618619Z"
    }
   },
   "id": "b179fb8a664d5035"
  },
  {
   "cell_type": "markdown",
   "source": [
    "Evaluate metrics for single-user predictions. Train set is also included for sanity-checking (plus, to compare how well the model is able to generalize)."
   ],
   "metadata": {
    "collapsed": false
   },
   "id": "5f41f11ab0b6304d"
  },
  {
   "cell_type": "code",
   "execution_count": 13,
   "outputs": [
    {
     "name": "stdout",
     "output_type": "stream",
     "text": [
      "8/8 done...\n",
      "AUC: train 0.937602, test 0.934772.\n",
      "Precision: train 0.350780, test 0.233520.\n",
      "Recall: train 0.024163, test 0.096696.\n",
      "Reciprocal rank: train 0.539575, test 0.346861.\n"
     ]
    }
   ],
   "source": [
    "print(\"0/8 done...\", end=\"\")\n",
    "train_auc_h = auc_score(model_h, train,\n",
    "                        item_features=item_features,\n",
    "                        num_threads=12).mean()\n",
    "print(\"\\r1/8 done...\", end=\"\")\n",
    "test_auc_h = auc_score(model_h, test,\n",
    "                       train_interactions=train,\n",
    "                       item_features=item_features,\n",
    "                       num_threads=12).mean()\n",
    "print(\"\\r2/8 done...\", end=\"\")\n",
    "\n",
    "train_precision_h = precision_at_k(model_h, train, k=10,\n",
    "                                   item_features=item_features,\n",
    "                                   num_threads=12).mean()\n",
    "print(\"\\r3/8 done...\", end=\"\")\n",
    "test_precision_h = precision_at_k(model_h, test, k=10,\n",
    "                                  train_interactions=train,\n",
    "                                  item_features=item_features,\n",
    "                                  num_threads=12).mean()\n",
    "print(\"\\r4/8 done...\", end=\"\")\n",
    "\n",
    "train_recall_h = recall_at_k(model_h, train, k=10,\n",
    "                             item_features=item_features,\n",
    "                             num_threads=12).mean()\n",
    "print(\"\\r5/8 done...\", end=\"\")\n",
    "test_recall_h = recall_at_k(model_h, test, k=10,\n",
    "                            train_interactions=train,\n",
    "                            item_features=item_features,\n",
    "                            num_threads=12).mean()\n",
    "print(\"\\r6/8 done...\", end=\"\")\n",
    "\n",
    "train_reciprocal_rank_h = reciprocal_rank(model_h, train,\n",
    "                                          item_features=item_features,\n",
    "                                          num_threads=12).mean()\n",
    "print(\"\\r7/8 done...\", end=\"\")\n",
    "test_reciprocal_rank_h = reciprocal_rank(model_h, test,\n",
    "                                         train_interactions=train,\n",
    "                                         item_features=item_features,\n",
    "                                         num_threads=12).mean()\n",
    "print(\"\\r8/8 done...\")\n",
    "\n",
    "print('AUC: train %.6f, test %.6f.' % (train_auc_h, test_auc_h))\n",
    "print('Precision: train %.6f, test %.6f.' % (train_precision_h, test_precision_h))\n",
    "print('Recall: train %.6f, test %.6f.' % (train_recall_h, test_recall_h))\n",
    "print('Reciprocal rank: train %.6f, test %.6f.' % (train_reciprocal_rank_h, test_reciprocal_rank_h))"
   ],
   "metadata": {
    "collapsed": false,
    "ExecuteTime": {
     "end_time": "2024-01-19T23:01:27.295700566Z",
     "start_time": "2024-01-19T22:59:18.356564608Z"
    }
   },
   "id": "b8ee5784f657bd03"
  },
  {
   "cell_type": "markdown",
   "source": [
    "Process raw scores returned by the model to get predicted track ids for both single-user and multi-user predictions.\n",
    "\n",
    "\n",
    "**NOTE: these methods work a little different from recommender protocol**"
   ],
   "metadata": {
    "collapsed": false
   },
   "id": "f14f054ba084948d"
  },
  {
   "cell_type": "code",
   "execution_count": 14,
   "outputs": [
    {
     "data": {
      "text/plain": "id\n2iUmqdfGZcHIhS3b9E9EWq    1792.833333\n0K1KOCeJBj3lpDYxEX9qP2    1827.666667\n3UH4JIDuP83866Y43bbo4k    1919.333333\n562oeuAN5GH85iE7FQVKSB    2014.666667\n5aV4HUW9RFOB0aXq0Ud9s0    2065.000000\n7iPlcFvOMOzt6v0QvcAueZ    2094.333333\n6HguG9HRb1Ke1bhihfE4m8    2115.000000\n1fBl642IhJOE5U319Gy2Go    2122.000000\n6C88rHxXBlpcgtBY3HAF0E    2177.166667\n2TgxCUZdHFkPEVmFge1OSd    2222.666667\n4rmIfFUZhhi9sS5IYtpkXw    2236.000000\n5WSdMcWTKRdN1QYVJHJWxz    2271.666667\n06cCziAHtDg6pcsidZHu03    2326.833333\n6WmIyn2fx1PKQ0XDpYj4VR    2329.333333\n3TgMcrV32NUKjEG2ujn9eh    2343.500000\n5It7Lw1E8VCSyS6AQv6nPm    2353.833333\n4w0joPRhKJsrzq1euxkpZ2    2361.833333\n7h6lpVuSGPW6RNjDXKpYDh    2373.000000\n0l4DTppOxy7NUaEcwXuOb6    2397.500000\n67ispalOAo3jnZWYSTTfZk    2427.500000\ndtype: float64"
     },
     "execution_count": 14,
     "metadata": {},
     "output_type": "execute_result"
    }
   ],
   "source": [
    "def predict_single(user: int, number: int) -> pd.Series:\n",
    "    \"\"\"\n",
    "    Recommends `number` of tracks to user of ID `user`.\n",
    "    \n",
    "    Args:\n",
    "        user (int): user ID\n",
    "        number (int): number of recommendations to make\n",
    "        \n",
    "    Returns:\n",
    "         pd.Series: Predicted tracks. The series is indexed with track indices in item list passed when training model, series values are track ID's. \n",
    "    \"\"\"\n",
    "    predicted_scores = model_h.predict(user, np.arange(interactions.shape[1]),\n",
    "                                       item_features=item_features,\n",
    "                                       num_threads=12)\n",
    "\n",
    "    return pd.concat([tracks['id'], pd.Series(predicted_scores)], axis=1).nlargest(number, 0).sort_values(by=0,\n",
    "                                                                                                          ascending=False)[\n",
    "        'id']\n",
    "\n",
    "\n",
    "def predict_multiple(users: list[int], number: int) -> pd.Series:\n",
    "    \"\"\"\n",
    "    Recommend `number` of tracks to users of ID's `users`.\n",
    "        \n",
    "    Args:\n",
    "        users (list[int]): user ID's (at least two)\n",
    "        number (int): number of recommendations to make\n",
    "        \n",
    "    Returns:\n",
    "         pd.Series: Predicted tracks. The series is indexed with track ID's (NOTE - different from `predict_single`), series values are mean ranks of items across single-user prediction for all users. The series is ordered by mean ranks.\n",
    "         \n",
    "    Raises:\n",
    "        ValueError: If 0 or 1 user ID supplied.\n",
    "    \"\"\"\n",
    "    if len(users) <= 1:\n",
    "        raise ValueError(\"To make single-user predictions, use `predict_single`\")\n",
    "\n",
    "    predictions = [predict_single(u, tracks.size) for u in users]\n",
    "    common = frozenset(predictions[0]).intersection(*(frozenset(p) for p in predictions[1:]))\n",
    "\n",
    "    indexed_by_rank = (s.reset_index(drop=True).loc[s.reset_index().id.isin(common)].sort_values() for s in predictions)\n",
    "\n",
    "    return pd.concat([pd.Series(s.index.values, index=s) for s in indexed_by_rank], axis=1).mean('columns').nsmallest(\n",
    "        number)\n",
    "\n",
    "\n",
    "predict_multiple([123, 124, 125, 126, 127, 128], 20)\n"
   ],
   "metadata": {
    "collapsed": false,
    "ExecuteTime": {
     "end_time": "2024-01-19T23:01:27.496017820Z",
     "start_time": "2024-01-19T23:01:27.289119257Z"
    }
   },
   "id": "c8b7f0a22831c3b5"
  },
  {
   "cell_type": "markdown",
   "source": [
    "Make some test predictions for single users. They should not overlap too much."
   ],
   "metadata": {
    "collapsed": false
   },
   "id": "2e65eac865cd850f"
  },
  {
   "cell_type": "code",
   "execution_count": 15,
   "outputs": [
    {
     "name": "stdout",
     "output_type": "stream",
     "text": [
      "11333    2mt1IqcFyY1zmYZT8Q3xw9\n",
      "13775    2xLMifQCjDGFmkHkpNLD9h\n",
      "12090    3aQem4jVGdhtg116TmJnHz\n",
      "10938    7qEHsqek33rTcFNT9PFqLf\n",
      "12380    1XXimziG1uhM0eDNCZCrUl\n",
      "                  ...          \n",
      "11315    2lnzGkdtDj5mtlcOW2yRtG\n",
      "21921    0Dv4DdNy1xnhNcCd9YVoiH\n",
      "11179    1QFh8OH1e78dGd3VyJZCAC\n",
      "3578     2APxH5XbOLDTmW9X5yi6Hw\n",
      "3234     6GcuA4J9ruyClBizBd4m5E\n",
      "Name: id, Length: 2000, dtype: object\n",
      "2371     30RKGpKHqr7ytcTljw436k\n",
      "6994     7As8h8LJTMIritB8QwSmqr\n",
      "9958     1brpdmqkx3kSxyqzqXfW7J\n",
      "8252     6F5RvdxWcLOJW7LAGuc24r\n",
      "10704    3vhKrSxe3fRuS5Ogis76VO\n",
      "                  ...          \n",
      "9920     48lQegoLqGAzaRLnMwK0mO\n",
      "10108    1qCe9qukzqAwCs08AGfzJG\n",
      "20630    45DElIx0dXqUH4A88yQFdE\n",
      "12753    5X6HkkTe8mUwkHo3Lccr6E\n",
      "2882     5e9TFTbltYBg2xThimr0rU\n",
      "Name: id, Length: 2000, dtype: object\n",
      "{'5Fli1xRi01bvCjsZvKWro0', '2FZ0yrA5aPClG5ZPBlV7n4', '2wmr2A1ixEx9qViaOMkkkW', '2CbtdkBeW9Znt4vXTOafAl', '30RKGpKHqr7ytcTljw436k', '7MtBapy0MnmBVsU3o0yrFz', '4PDNOmMej8sc1mkiZfvW9w', '0SUClY63fA1awioMFtMYeE', '7tvOve5IkjYenvqScZ75iQ', '5xLyTbCFONUGUuG0LtUxjn', '2gqzkEF88vMclfRZEIOnQO', '2M5WTwqnkyz7bW6P1CiD6q', '36WNQJFVjYhDRZ6vJhYXEh', '6QKhecJ2JuajCTPTtYkKUQ', '0Yfpc5zHc9pElVCQ1bPlF4', '36DLF96pjKydN0MZtsahQz', '2TXzXJWWzESQq5glbDtZc9', '7w6PJe5KBPyvuRYxFkPssC', '3cXiUuiGpFmZ8OdAWKk8Ck', '5clz8BOBulxx7q2yHxqOCk', '5WSsTyBvMEFG3ac6JKb9gY', '4zXvB4MoQD8onk0NCZbeHG', '0IGXkVRn0uCsgn4FvIfpgB', '1WnEyhN7Gdu23DQvUZkQy8', '51xBgzcyzojRpqFW2ICQAB', '6YwqziI3H71IMishKRTHHg', '31dqpLUModJWNbxrXu6TWd', '2MuWTIM3b0YEAskbeeFE1i', '1tdltVUBkiBCW1C3yB4zyD', '1jJenVEjsXClGR4n4vJkMu', '3QZ7uX97s82HFYSmQUAN1D', '4e9hUiLsN4mx61ARosFi7p', '6FDpQJtEKdYgtyN316VxLO', '1aXFBWnnPFRKUN7vuIA5h0', '3qyHjQ1zTLvPeA99CP3K9N', '6FUwPb4mGlUDbx42uspXaZ', '4qPgSwPUGigsmx6gUV2dnU', '4tPHBRIPsB55nssjvKDbjj', '0Z0s6dw0zw2ENU1gVjlLV6', '2APxH5XbOLDTmW9X5yi6Hw', '1QFh8OH1e78dGd3VyJZCAC', '3fOc9x06lKJBhz435mInlH', '62oNfnQqObaqARM0DTibAL', '2O7UGwJPVlix15Wn4sa5vw', '5emb8RDOZtpXlw6D0eEQbz', '7xa3dJQMzBVzsrZ81tNcHP', '1cPXOzyeZauSAsT1yy7aBp', '2VAQuXC01B2eJAEnkjIj7z', '7yDrKl1J4VWNbR4aLU3qJ7', '4q9YY8eorYGjpjk3Zko7l9', '086myS9r57YsLbJpU0TgK9', '4jLTF119PfzzJoaNuj3d2p', '0vhOJ8a3M2LWnBNrDXJKDl', '1PhLYngBKbeDtdmDzCg3Pb', '5TnzOUFWoZHUEtOWlxrIlY', '1gqTXnc7WXBI9AwcCiqcJ1', '4aYLAF6ckQ5ooGGGM7sWAa', '5BIMPccDwShpXq784RJlJp', '0fCWbJq1hagsRgShtn6gIU', '0oEweHsuQagFuqXct9UvBm', '1udmPvJoBnqitbeYKKc9mc', '2SrVGpjv0mqCR6j9EZPSm2', '6QDbGdbJ57Mtkflsg42WV5', '4chUb38ZUuvL1OST3aa063', '6sjTzevtstOxOMsFsypsEm', '0R9GrbRcpBRdwDlVPj2wEQ', '7LHZ7HA45ezKcdN8sBrBuS', '3ZuVfQriS93y6ofwbIf7lp', '46QazXxQS0B31CnbRCy8CV', '2Rn5VhDVELkuB4BjZEVJKr', '2ONmdpt36V0U35Qx5DO0y9', '4pruGLEd2plhfOmusGTGdq', '2E7W1X4maFFcjHrVrFA7Vs', '1tTPC0hsnXq1IGpvWY54JC', '3vhKrSxe3fRuS5Ogis76VO', '7iPlcFvOMOzt6v0QvcAueZ', '3nlGByvetDcS1uomAoiBmy', '4OKf7CcYuw5H2HptkcKxcP', '7fcfNW0XxTWlwVlftzfDOR', '1Ab3hhOw1TJWDgO10vlxNZ', '4E5xVW505akJX0wcKj8Mpd', '0CUYFHDVPANZRwa2SQsoWs', '1jzDzZWeSDBg5fhNc3tczV', '139RwLyp7r8F9ojvhGF5lC', '5YMJoplBWvIa2LHUPoGqb5', '2ABRY6jgqgSUyS5B1YdNIn', '2dXsILW8gzkosqleHAvl0v', '0sxYYT48UPkmrDx8p4Hnrl', '6Ok4D4w117mSi9OP8tmrpg', '10igKaIKsSB6ZnWxPxPvKO', '6F5RvdxWcLOJW7LAGuc24r', '5KOHd90fkcnS37GkBUjsdW', '5QtlbCKhAL70eQM9dbzoR8', '5w3TTTAo6DIEjQYO3vKZq0', '1E2AfYuobMm18cKEoQaRob', '4q9QVIaLqjbcoqeCfM2zan', '2KFE98Iw0X23sf4vJYcbLH', '5JCZHWdFLg2rXtg684rTHt', '11zf7m4vw9Ze7cer9Nyhk1', '6UGHk2cmbDC1oidVjXcCKo', '0WSRrGVg1gO33MKIBPgBV2', '5H8xFHau0x3PI1CssO6EaX', '2HD5BWFthrNf2uFyEhi53d', '0qlZQGo9f7Ea24PPLnXq2R', '7kjsCbksOZotNNHOvKsJJh', '5MMnwYs0hIxkENRsbkWJ2G', '5aV4HUW9RFOB0aXq0Ud9s0', '2rd9ETlulTbz6BYZcdvIE1', '3LqvmDtXWXjF7fg8mh8iZh', '7p2yIOf8YXJUSmUnG3TAWr', '70gbuMqwNBE2Y5rkQJE9By', '3NrV3jk5lXaQ57rmR2b53X', '07q0QVgO56EorrSGHC48y3', '3e7wv9TChjWrnXHrk5NyBU', '0ute0e8bY0FmSEIqDfhrBJ', '0WTc2jsUgF4Y2MOz0aYvsR', '4CyElmiM9EF9aURGWlPZLi', '7safX55XidhznxK5eDdDm5', '4MpIwDaZdFLafMDcAx4k4q', '1klDPm7SfsS32hl7KHV9iy', '1diuZVsxD74xvtUSABRUoF', '0eXz8pS25MoeUguNPR9VvD', '0XHWClSz0v6RIaRSGqJH3X', '3wFGRek61NIF330UwJCI52', '6eQJHIrPxZHC3zCHKijXZk', '1dyTcli07c77mtQK3ahUZR', '5axOkQnmQmwtjr4bv1Xt7i', '2HklyUw3TR56nVyVJAIhw5', '2IenDzi8pYn8c4WRteZai0', '6K8ROjiPJqyHDJS0sA0dwH', '1Ug98CRiQYu7wiSym4uLY4', '54bm2e3tk8cliUz3VSdCPZ', '4OROzZUy6gOWN4UGQVaZMF', '0M1pfDTZGWC7cBuEx3FwwT', '5DrNFzZZZVfXaEZCaceKnp', '7vFC68CBMKu99p4tIz6yzx', '0JtcFIgrkSagrM5JdFakeO', '51S9pXdACCrhputBUl05Cs', '4sAjWbPq6iSI6I0Ovr9CkY', '26fZwf1ImE4aUJ4XaqOkUg', '0803SWqmIJGvZ15B8zsewn', '2CzKVfVA9U7OKbIpAVPZOk', '5Z4FppKv32CM2LK3bUMSL5', '4d50VgYqfw1Rd0knRRL3qv', '4n4W0yJsGYXzFwStMYMLxj', '1MkoCFGbhPQIDI5lRdAheQ', '3pU1CUgPiFfxPCpscwIwQR', '3090goAxG6IlpCifA8m9xB', '2o4u19nlQWOGg5mLanT7Pg', '7HPhrbgMHV5cUskknWA2oo', '5hAAcyKfcw8nJ2Kgx3FXd0', '5Tdx85q8KQIcIZJ9XoHblt', '39eKdJcCdYYRdKEZRfKJDJ', '3IOQZRcEkplCXg6LofKqE9', '7FLm43IriB4jxAposCv9Ji', '63aVbch5VRXtQnCITdeDTZ', '0i1RTnH2Lj5gTDRU5wtyT2', '1OX2eJLfU0SHLzcy9sv9Vj', '5fgb3Md1xjt3mxeBqguiIA', '0dPPUcfDnvSwK38lLgzKSd', '68qTWgabevPj41WbvHtKwY', '69wXbIKtG6hzE4ID0wJTry', '0TaT50ZZxT4ytZxuqkE3A9', '2iW5uc25ziGLlNMqdhFJad', '6rkeaQRCWZxwkjhyqgxjXi', '2R6UrJ8uWbSIiHWmvRQvN8', '3Jl5GohfNwozDmpzmQBLDI', '5MhNgheI9IjDxQS5XQ3Ojo', '6LhUsJiXAuxoalUz01evh0', '1198hsFUvkbffYd8Ff58DX', '1cojSYj0ugS7tmcwKIxMX4', '2lF8jQFhIjpmQa501sYXxR', '0kAocIIQ0FP9NIKASAjVH5', '2VDg6h3Qr3F8UuFVInQxE6', '6ckozbGmOusAnLT2LEbERy', '6pb5BBnIM5IM7R1cqag6rE', '0PDThNPaf3ganx4PFmGznK', '4nvYDy427VvA1TcEkdgZII', '2Aqz0jTeEsS6DZbQYqHRGh', '27WqFiOFm2u1hax2ksdyqK', '6HguG9HRb1Ke1bhihfE4m8', '1brpdmqkx3kSxyqzqXfW7J', '5LDZbklcDwQeeScf7dUlo4', '0ofHAoxe9vBkTCp2UQIavz', '3lpDrxUkr0tIe1kmJvdK7d', '0h26wQZD5GoSvK5zZuv69E', '6S9q9mEifNdnTNlli2xSuD', '3JvMig6Sc8XRLqHseNsccM', '1SpuDZ7y1W4vaCzHeLvsf7', '6b6uLZsoGhObYexIxnRbIb', '2tAeN2TKlQLOoSPXtARzBV', '1Ovgu7X7u8zYoURU62ESmu', '2b7r6fN91KiHnp00aqHZ7x', '24HTwhBEeeohReRYPyjaDG', '78PKCefXwDLbl4FVO1Pjzh', '4R4uSnvRFeVdLQcX2zj8aU', '42Lq6GBO5KUSNeSgJsOoke', '0upLyFR8Rr52ZpMp5esQoq', '6i7IXg8j7ZngiEOgBYjkhw', '7As8h8LJTMIritB8QwSmqr', '5LnIyDJU1d1dDlsbhZq60l', '3IKJNHnVZ2bXGjAFBJiUYo', '0RdUX4WE0fO30VnlUbDVL6', '0rDPQzWWmLTv9deHn4ulG7', '7Ly4DzymgujObKg7wWVHZV', '3IolN0Ae207i0Fr9IHuNbu', '663YE60YdyYlI5lcHG3Noz', '1J9ylqJ29VS6yFhIkkNBzL', '2J8jdenoxkPXs44G9xcncc', '1Gn1FeIYUMZ2a7PrbaaQhl', '769cLRTw2y6KRdkFWFkxtu', '67vYdAAM3oGsEImCRfbtsF', '2uEz2uLMNj9ySHMkwuCDo5', '0W35nxtHtFlseSojmygEsf', '6guXhXMAHU4QYaEsobnS6v', '6lJJcUjhsp0TJRuzUIPOYO', '3U6sjwor2GyL9gwiolSi1Q', '51Vic2Yi71YKNtLbyJKgQt', '51YZAJhOwIC5Gg3jMbAmhZ', '4VbDJMkAX3dWNBdn3KH6Wx', '5JX4CIPK47CU1iVeAWJtH5', '1L2ZkXbRX00ZiaUDuMMgf7', '2V0T2LS0pf2r3EFpOEkZFO', '2Iv4HSoMX2fDeXFcOJWyWX', '2JhJOPGvtqMpj5RQC8cIYf', '4DmBwHmp0FVO6NJ9QfH2w2', '2bku1YWarHpKlxVC2FB9dH', '0yJvWbn8xQKiDZ84VN5lQG', '0gXMYs6RDg5muWWoi2q3mb', '4gZDCOFuLCxCRWNhSEcOtJ', '1vcZBUX6P6FHXzG2mUfmCE', '2UIuYNBg8r5pkoG2MjdLZT', '6wNF6hphTxhUiAmQG3uzbf', '6Xd3sEwne19qbUzxOrUl40', '0djZ2ndRfAL69WYNra5jRC', '3iV11AiIEDIOVjKy3kgjld', '7FdUvDkaE24o3FPIWTvzv2', '3YSfGJNDtF8KrHlwCAaVns', '3z9e5b0P7zoIeV6I3iyX8O', '14H2fE4WEdkEem0kjVeODT', '2jz6rWGqVCYsymwxGoaON4', '1iW2ktyrQHNKZwFTvgP0Ta', '469rBLYJUZHMJLtq2Wch3h', '5CdbSPuZdIKFm5e0TUDJD8', '72hpTHMLFrO4ErhSQl2FhZ', '3JjZq20Kv6UphyyirAaY9A', '38fIaph07Kd8ZIN6l17ZJs', '2fICdpdRotwfmGYzvs8Ngf', '1V3wAgMB4ESaN4rStlrUNz', '5sICkBXVmaCQk5aISGR3x1', '5F5Wshdfs9oe188TryHRia', '3IHyDrQOASm7R0WBamMJO8', '0nLiqZ6A27jJri2VCalIUs', '2SgbR6ttzoNlCRGQOKjrop', '2zZ8l0uehjvGhJR5SMN9Jl', '3ovjw5HZZv43SxTwApooCM', '60JWUDrpUTuu6gxTvknjg5', '0hLQWHwB6GZlkASpS7DkdW', '4aU82r5G2KTUh3HmPHCbM1', '1nPjPnOhuKXhhjHA5LSaqL', '6MumccCPd4N6qBVdl0gSeM', '6p8eFfPw3nQkf37aT3AkmK', '7wqF3BU0ykeKch6BcNqGiT', '4B3gkbr7aGC2sujjgivK0s', '4ntaCVtTclqT43krz9n3Z9', '0UCg6lnG2MXpuEpf8Pk1MV', '4gVTozEmzwAUXpwj3jEetX', '6hUsqGsn3I5GxfPZhqgP8W', '4YPgTCGJWAlHQ5g6eWoM8r', '6z3JD6IqVvu6TUBtCfQPbe', '6olS0TmHmsGr0hXtcBsiVM', '3tISv448Ikxvpq2ZrFyGG2', '5BNJqYUN3FI4krR901tdLd', '58XWGx7KNNkKneHdprcprX', '0S3gpZzlT9Hb7CCSV2owX7', '1gkn90ExKRNAOlhDs4RoW0'}\n",
      "276/2000 (13.80%) items overlaping\n"
     ]
    }
   ],
   "source": [
    "n = 2000\n",
    "r1 = predict_single(123, n)\n",
    "r2 = predict_single(124, n)\n",
    "print(r1)\n",
    "print(r2)\n",
    "overlap = set(r1).intersection(set(r2))\n",
    "print(overlap)\n",
    "print(f\"{len(overlap)}/{n} ({len(overlap) * 100 / n:.2f}%) items overlaping\")"
   ],
   "metadata": {
    "collapsed": false,
    "ExecuteTime": {
     "end_time": "2024-01-19T23:01:27.530904463Z",
     "start_time": "2024-01-19T23:01:27.498220529Z"
    }
   },
   "id": "422df5012da24b5f"
  },
  {
   "cell_type": "markdown",
   "source": [
    "Sanity check - make sure the model does not return the same items for every user."
   ],
   "metadata": {
    "collapsed": false
   },
   "id": "7e8f39b2fc6ae908"
  },
  {
   "cell_type": "code",
   "execution_count": 16,
   "outputs": [
    {
     "name": "stdout",
     "output_type": "stream",
     "text": [
      "Sanity check PASS\n"
     ]
    }
   ],
   "source": [
    "r1_ = predict_single(123, 10)\n",
    "r2_ = predict_single(124, 10)\n",
    "assert len(set(r1_).intersection(set(r2_))) <= 1\n",
    "print(\"Sanity check PASS\")"
   ],
   "metadata": {
    "collapsed": false,
    "ExecuteTime": {
     "end_time": "2024-01-19T23:01:27.631190157Z",
     "start_time": "2024-01-19T23:01:27.522497653Z"
    }
   },
   "id": "22b09dbbc34b7e97"
  },
  {
   "cell_type": "markdown",
   "source": [
    "Evaluate the model on multi-user predictions. To compare results, measure the mean distance to center of gravity predicted items' latent representations generated by the model."
   ],
   "metadata": {
    "collapsed": false
   },
   "id": "6ced6579360dcc82"
  },
  {
   "cell_type": "code",
   "execution_count": 17,
   "outputs": [
    {
     "name": "stdout",
     "output_type": "stream",
     "text": [
      "id\n",
      "2iUmqdfGZcHIhS3b9E9EWq    1792.833333\n",
      "0K1KOCeJBj3lpDYxEX9qP2    1827.666667\n",
      "3UH4JIDuP83866Y43bbo4k    1919.333333\n",
      "562oeuAN5GH85iE7FQVKSB    2014.666667\n",
      "5aV4HUW9RFOB0aXq0Ud9s0    2065.000000\n",
      "7iPlcFvOMOzt6v0QvcAueZ    2094.333333\n",
      "6HguG9HRb1Ke1bhihfE4m8    2115.000000\n",
      "1fBl642IhJOE5U319Gy2Go    2122.000000\n",
      "6C88rHxXBlpcgtBY3HAF0E    2177.166667\n",
      "2TgxCUZdHFkPEVmFge1OSd    2222.666667\n",
      "4rmIfFUZhhi9sS5IYtpkXw    2236.000000\n",
      "5WSdMcWTKRdN1QYVJHJWxz    2271.666667\n",
      "06cCziAHtDg6pcsidZHu03    2326.833333\n",
      "6WmIyn2fx1PKQ0XDpYj4VR    2329.333333\n",
      "3TgMcrV32NUKjEG2ujn9eh    2343.500000\n",
      "5It7Lw1E8VCSyS6AQv6nPm    2353.833333\n",
      "4w0joPRhKJsrzq1euxkpZ2    2361.833333\n",
      "7h6lpVuSGPW6RNjDXKpYDh    2373.000000\n",
      "0l4DTppOxy7NUaEcwXuOb6    2397.500000\n",
      "67ispalOAo3jnZWYSTTfZk    2427.500000\n",
      "dtype: float64\n"
     ]
    },
    {
     "data": {
      "text/plain": "                 method  mean distance\n0    Predicted by model       0.362724\n1  Sampled from history       0.737306\n2       Entirely random       0.495509",
      "text/html": "<div>\n<style scoped>\n    .dataframe tbody tr th:only-of-type {\n        vertical-align: middle;\n    }\n\n    .dataframe tbody tr th {\n        vertical-align: top;\n    }\n\n    .dataframe thead th {\n        text-align: right;\n    }\n</style>\n<table border=\"1\" class=\"dataframe\">\n  <thead>\n    <tr style=\"text-align: right;\">\n      <th></th>\n      <th>method</th>\n      <th>mean distance</th>\n    </tr>\n  </thead>\n  <tbody>\n    <tr>\n      <th>0</th>\n      <td>Predicted by model</td>\n      <td>0.362724</td>\n    </tr>\n    <tr>\n      <th>1</th>\n      <td>Sampled from history</td>\n      <td>0.737306</td>\n    </tr>\n    <tr>\n      <th>2</th>\n      <td>Entirely random</td>\n      <td>0.495509</td>\n    </tr>\n  </tbody>\n</table>\n</div>"
     },
     "metadata": {},
     "output_type": "display_data"
    }
   ],
   "source": [
    "N = 20\n",
    "REPS = 100\n",
    "\n",
    "res_m = predict_multiple([123, 124, 125, 126, 127, 128], N)\n",
    "print(res_m)\n",
    "\n",
    "# LightFM maps provided track ID's to its own internal mapping (indices in interaction matrix). To find latent vector representations for predicted items, we first need to remap ID's to internal indices.\n",
    "(user_id_mapping, _, item_id_mapping, _) = dataset.mapping()\n",
    "\n",
    "\n",
    "def mean_dist_from_cluster_center(items_ids, model: LightFM):\n",
    "    item_indices = [item_id_mapping[i] for i in items_ids]\n",
    "    coords = np.take(model.get_item_representations()[1], item_indices, axis=0)\n",
    "    center = np.sum(coords, axis=0) / coords.shape[0]\n",
    "    return np.average(np.apply_along_axis(lambda x: np.linalg.norm(center - x, ord=2), 1, coords))\n",
    "\n",
    "\n",
    "dist_predicted = mean_dist_from_cluster_center(res_m.index, model_h)\n",
    "\n",
    "# draw random samples from all tracks\n",
    "random_items = tracks['id'].sample(N)\n",
    "dist_random = sum([mean_dist_from_cluster_center(\n",
    "    tracks['id'].sample(N),\n",
    "    model_h) for _ in range(REPS)]) / REPS\n",
    "\n",
    "# draw random samples from combined users' session history\n",
    "dist_sampled = sum([mean_dist_from_cluster_center(\n",
    "    pd.concat(\n",
    "        (d.loc[d['user_id'] == i] for i in (123, 124, 125, 126, 127, 128))\n",
    "    )['track_id'].sample(N),\n",
    "    model_h) for _ in range(REPS)]) / REPS\n",
    "\n",
    "display(pd.DataFrame(\n",
    "    data={\n",
    "        \"method\": [\"Predicted by model\", \"Sampled from history\", \"Entirely random\"],\n",
    "        \"mean distance\": [dist_predicted, dist_sampled, dist_random]\n",
    "    }\n",
    "))"
   ],
   "metadata": {
    "collapsed": false,
    "ExecuteTime": {
     "end_time": "2024-01-19T23:01:30.334462166Z",
     "start_time": "2024-01-19T23:01:27.568438003Z"
    }
   },
   "id": "b27b91f8373e0ad3"
  },
  {
   "cell_type": "markdown",
   "source": [
    "Note that entirely randomly chosen items may have better clustering, which is expected - they are spread relatively evenly throughout the entire space. What's important is whether model predictions are more clustered than random samples from users' session history - if so, the model managed to find a \"common ground\" between different music tastes."
   ],
   "metadata": {
    "collapsed": false
   },
   "id": "e1370ff8b1f9d2d6"
  },
  {
   "cell_type": "markdown",
   "source": [
    "# The same example using model classes"
   ],
   "metadata": {
    "collapsed": false
   },
   "id": "1b5fce7e4d8fc97a"
  },
  {
   "cell_type": "markdown",
   "source": [
    "Both models match `model.model_protocol.Recommender` protocol - it can be used for type checking."
   ],
   "metadata": {
    "collapsed": false
   },
   "id": "b0743fee1a49b4ee"
  },
  {
   "cell_type": "code",
   "execution_count": 19,
   "outputs": [],
   "source": [
    "from model.base_model import BaseModel\n",
    "from model.fm_model import FMModel\n",
    "\n",
    "base_model = BaseModel(\n",
    "    users_df=users,\n",
    "    tracks_df=tracks,\n",
    "    sessions_df=d\n",
    ")\n",
    "\n",
    "fm_model = FMModel(\n",
    "    users_df=users,\n",
    "    tracks_df=tracks,\n",
    "    sessions_df=d,\n",
    "    lightfm_model=model_h,\n",
    "    interactions=interactions,\n",
    "    item_features=item_features,\n",
    "    user_id_mapping=user_id_mapping\n",
    ")"
   ],
   "metadata": {
    "collapsed": false,
    "ExecuteTime": {
     "end_time": "2024-01-19T23:02:46.960405015Z",
     "start_time": "2024-01-19T23:02:46.856211373Z"
    }
   },
   "id": "82332e7bb2f28c66"
  },
  {
   "cell_type": "code",
   "execution_count": 20,
   "outputs": [
    {
     "data": {
      "text/plain": "0     4oY2T9ur7Ll5b2kpBlcWcb\n1     0xVrusjXiWhqSQ5dPoiiWX\n2     2NlmmAjGYrrjAp0MED5rGx\n3     2fZQIJew3nkNe99s2PKzul\n4     3PfIrDoz19wz7qK7tYeu62\n5     5UgsZiYk1lkEobuPHmRtWm\n6     06u5LrUpbosQlQ1QJFhPpG\n7     7cNz65PfCatRXoX7QtqM2A\n8     2rIqgWl4riTsgSeyYYM2cl\n9     0i2xIlZCO0H3mSpxr2HzgK\n10    7zMcNqs55Mxer82bvZFkpg\n11    7AQjiRtIpr33P8UT98iveh\n12    2wSQyp6VzUopSFBinRo1iD\n13    47Slg6LuqLaX0VodpSCvPt\n14    1x6jHJGczTBitBy06hIWgx\n15    3ESSGgWzRf1xvP7G5hHMhB\n16    2MfOcbtgz2yTsiznFmVZUN\n17    0xMd5bcWTbyXS7wPrBtZA6\n18    6RtzmszGXs32TRhv5zTKNM\n19    4dvQg9sD8k9y4qiEURuj8v\nName: track_id, dtype: object"
     },
     "execution_count": 20,
     "metadata": {},
     "output_type": "execute_result"
    }
   ],
   "source": [
    "base_model.predict_single(123, N)"
   ],
   "metadata": {
    "collapsed": false,
    "ExecuteTime": {
     "end_time": "2024-01-19T23:02:46.974519101Z",
     "start_time": "2024-01-19T23:02:46.869182218Z"
    }
   },
   "id": "be9209bb921e478a"
  },
  {
   "cell_type": "code",
   "execution_count": 21,
   "outputs": [
    {
     "data": {
      "text/plain": "0     5Lgcn7u07bHuqbOtXkN62u\n1     5NijSs5dAwaIybq1GaRTIe\n2     28GUjBGqZVcAV4PHSYzkj2\n3     3ugAI8vlmz6y4T9BlKhytz\n4     7mYvtEeBdMqRSyj1Qpv6my\n5     3x4Zx0rPoW6kErSDK8SSnW\n6     1MaI6NwdrqnE3mRzOYTpoo\n7     4squZv12LD9M8ooJfoVgZS\n8     3jagJCUbdqhDSPuxP8cAqF\n9     5XqDJFVCyRTm5J7cIfRmR1\n10    0At2qAoaVjIwWNAqrscXli\n11    3ojTJaonfkL96iIWa47SU3\n12    590ZheHFaC3JsZBwL8otpk\n13    2jdw2tc29bqJwToyGvKgJm\n14    53ETzLQQKFCzykRbqWb1ph\n15    02UJ1sCanP94fS2MdsWafh\n16    3BFrR2hemusNSuiuNWXUqO\n17    2heln0PA9q54ngSUjsPnvg\n18    2771LMNxwf62FTAdpJMQfM\n19    1XXimziG1uhM0eDNCZCrUl\nName: id, dtype: object"
     },
     "execution_count": 21,
     "metadata": {},
     "output_type": "execute_result"
    }
   ],
   "source": [
    "fm_model.predict_single(123, N)"
   ],
   "metadata": {
    "collapsed": false,
    "ExecuteTime": {
     "end_time": "2024-01-19T23:02:47.025562333Z",
     "start_time": "2024-01-19T23:02:46.870110991Z"
    }
   },
   "id": "b1aa34b6804674bd"
  },
  {
   "cell_type": "code",
   "execution_count": 22,
   "outputs": [
    {
     "data": {
      "text/plain": "0     5Eg4TsPcqNbIjd8ADMZosg\n1     5FF6Pyuh5jW6ybKHiaiGMy\n2     06RdYCp0UxsBtWsonHfSZz\n3     0j1Ia2lQWrcXrQZI4AdJlk\n4     0URCTFCWXOg3JQximz1u30\n5     06UPCXzhIsXnceSXmKLMEY\n6     5MbXzXGbqobR8xPVPs8OXA\n7     7iAqvWLgZzXvH38lA06QZg\n8     4k7P2LIQco8YCVbIZl1vZB\n9     7npLlaPu9Mfno8hjk5OagD\n10    24qoogZedlX1wdR4AbzTSB\n11    1Bx0zEdVjkFlV27iKaePug\n12    0yJi7eb2SosK5CsSnnqc5o\n13    0Z5ok0QLLttAKsujOZYOXf\n14    3nnG7AM9QopHVPEuLX3Khk\n15    3fNaQSMgFrYTkTshRX7J1u\n16    2ofOe2OaXFpZF5ETbsc7Qu\n17    1tZcw7GtIqviL32bzaKdSo\n18    7GkM8M2EC8OJblOxQxAR7t\n19    1JIzFhI9Lt5FyslawmHCBi\nName: track_id, dtype: object"
     },
     "metadata": {},
     "output_type": "display_data"
    }
   ],
   "source": [
    "res_base = base_model.predict_multiple((123, 124, 125, 126, 127, 128), N)\n",
    "display(res_base)"
   ],
   "metadata": {
    "collapsed": false,
    "ExecuteTime": {
     "end_time": "2024-01-19T23:02:47.025806244Z",
     "start_time": "2024-01-19T23:02:46.912136356Z"
    }
   },
   "id": "ed8b6b41e6ad3eef"
  },
  {
   "cell_type": "code",
   "execution_count": 23,
   "outputs": [
    {
     "data": {
      "text/plain": "0     562oeuAN5GH85iE7FQVKSB\n1     5pbajJXEPdcoXQPXoAVR1t\n2     4gs07VlJST4bdxGbBsXVue\n3     6C88rHxXBlpcgtBY3HAF0E\n4     3UH4JIDuP83866Y43bbo4k\n5     2WwzQJt4hG7YC6x16ZTYFM\n6     0tuyEYTaqLxE41yGHSsXjy\n7     0RZyUsKfiC7MtiGKatCtGc\n8     0HRshWRNAwQBROvxXqG3i9\n9     13HVjjWUZFaWilh2QUJKsP\n10    2iUmqdfGZcHIhS3b9E9EWq\n11    3PSMcb1gU5A8DveqU2K4z2\n12    5FPnjikbwlDMULCCCa6ZCJ\n13    5WSdMcWTKRdN1QYVJHJWxz\n14    5rwdhliMmo0aAQ08vU0AOZ\n15    2Xs64pHlU29DTVMjWKyblt\n16    3bXhtg6H8lOMWaLZttQF6F\n17    77Y57qRJBvkGCUw9qs0qMg\n18    1Kvbih7Ebm4bkPinpSottk\n19    7MRn6wgG0ReDRNYV5wJeGX\ndtype: object"
     },
     "metadata": {},
     "output_type": "display_data"
    }
   ],
   "source": [
    "res_fm = fm_model.predict_multiple((123, 124, 125, 126, 127, 128), N)\n",
    "display(res_fm)"
   ],
   "metadata": {
    "collapsed": false,
    "ExecuteTime": {
     "end_time": "2024-01-19T23:02:47.139334166Z",
     "start_time": "2024-01-19T23:02:46.912259050Z"
    }
   },
   "id": "2be614d9ba4f300a"
  },
  {
   "cell_type": "code",
   "execution_count": 24,
   "outputs": [
    {
     "data": {
      "text/plain": "                 method  mean distance\n0    Predicted by model       0.539144\n1  Sampled from history       0.738088",
      "text/html": "<div>\n<style scoped>\n    .dataframe tbody tr th:only-of-type {\n        vertical-align: middle;\n    }\n\n    .dataframe tbody tr th {\n        vertical-align: top;\n    }\n\n    .dataframe thead th {\n        text-align: right;\n    }\n</style>\n<table border=\"1\" class=\"dataframe\">\n  <thead>\n    <tr style=\"text-align: right;\">\n      <th></th>\n      <th>method</th>\n      <th>mean distance</th>\n    </tr>\n  </thead>\n  <tbody>\n    <tr>\n      <th>0</th>\n      <td>Predicted by model</td>\n      <td>0.539144</td>\n    </tr>\n    <tr>\n      <th>1</th>\n      <td>Sampled from history</td>\n      <td>0.738088</td>\n    </tr>\n  </tbody>\n</table>\n</div>"
     },
     "metadata": {},
     "output_type": "display_data"
    }
   ],
   "source": [
    "dist_predicted1 = mean_dist_from_cluster_center(res_fm, fm_model.model)\n",
    "dist_sampled1 = sum([mean_dist_from_cluster_center(\n",
    "    pd.concat(\n",
    "        (d.loc[d['user_id'] == i] for i in (123, 124, 125, 126, 127, 128))\n",
    "    )['track_id'].sample(N),\n",
    "    fm_model.model) for _ in range(REPS)]) / REPS\n",
    "\n",
    "display(pd.DataFrame(\n",
    "    data={\n",
    "        \"method\": [\"Predicted by model\", \"Sampled from history\"],\n",
    "        \"mean distance\": [dist_predicted1, dist_sampled1]\n",
    "    }\n",
    "))"
   ],
   "metadata": {
    "collapsed": false,
    "ExecuteTime": {
     "end_time": "2024-01-19T23:02:49.555395243Z",
     "start_time": "2024-01-19T23:02:47.142072531Z"
    }
   },
   "id": "26054953ce72c5a1"
  },
  {
   "cell_type": "markdown",
   "source": [
    "## Model serialization"
   ],
   "metadata": {
    "collapsed": false
   },
   "id": "e9174e76c505a153"
  },
  {
   "cell_type": "code",
   "execution_count": 25,
   "outputs": [],
   "source": [
    "import pickle"
   ],
   "metadata": {
    "collapsed": false,
    "ExecuteTime": {
     "end_time": "2024-01-19T23:02:51.595618080Z",
     "start_time": "2024-01-19T23:02:49.554815528Z"
    }
   },
   "id": "ee1db2948fce96ad"
  },
  {
   "cell_type": "code",
   "execution_count": 26,
   "outputs": [
    {
     "data": {
      "text/plain": "0.5391442"
     },
     "execution_count": 26,
     "metadata": {},
     "output_type": "execute_result"
    }
   ],
   "source": [
    "mean_dist_from_cluster_center(res_fm, fm_model.model)"
   ],
   "metadata": {
    "collapsed": false,
    "ExecuteTime": {
     "end_time": "2024-01-19T23:02:51.607020727Z",
     "start_time": "2024-01-19T23:02:51.598079225Z"
    }
   },
   "id": "decf016597c510c"
  },
  {
   "cell_type": "code",
   "execution_count": 27,
   "outputs": [
    {
     "data": {
      "text/plain": "0.5391442"
     },
     "execution_count": 27,
     "metadata": {},
     "output_type": "execute_result"
    }
   ],
   "source": [
    "fm_model_deserialized = pickle.loads(pickle.dumps(fm_model))\n",
    "res_fm_deserialized = fm_model_deserialized.predict_multiple((123, 124, 125, 126, 127, 128), N)\n",
    "mean_dist_from_cluster_center(res_fm_deserialized, fm_model_deserialized.model)\n"
   ],
   "metadata": {
    "collapsed": false,
    "ExecuteTime": {
     "end_time": "2024-01-19T23:02:52.543145446Z",
     "start_time": "2024-01-19T23:02:51.759993006Z"
    }
   },
   "id": "54c110a737dbf62c"
  },
  {
   "cell_type": "code",
   "execution_count": 28,
   "outputs": [
    {
     "name": "stdout",
     "output_type": "stream",
     "text": [
      "0.9347719\n",
      "0.9347719\n"
     ]
    }
   ],
   "source": [
    "print(auc_score(fm_model.model, test,\n",
    "                train_interactions=train,\n",
    "                item_features=item_features,\n",
    "                num_threads=12).mean())\n",
    "print(auc_score(fm_model_deserialized.model, test,\n",
    "                train_interactions=train,\n",
    "                item_features=item_features,\n",
    "                num_threads=12).mean())"
   ],
   "metadata": {
    "collapsed": false,
    "ExecuteTime": {
     "end_time": "2024-01-19T23:03:20.083886986Z",
     "start_time": "2024-01-19T23:02:52.546120754Z"
    }
   },
   "id": "1db28fc288c7ea4f"
  }
 ],
 "metadata": {
  "kernelspec": {
   "display_name": "Python 3",
   "language": "python",
   "name": "python3"
  },
  "language_info": {
   "codemirror_mode": {
    "name": "ipython",
    "version": 2
   },
   "file_extension": ".py",
   "mimetype": "text/x-python",
   "name": "python",
   "nbconvert_exporter": "python",
   "pygments_lexer": "ipython2",
   "version": "2.7.6"
  }
 },
 "nbformat": 4,
 "nbformat_minor": 5
}
